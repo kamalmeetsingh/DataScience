{
 "cells": [
  {
   "cell_type": "markdown",
   "metadata": {
    "toc": "true"
   },
   "source": [
    "# Table of Contents\n",
    " <p>"
   ]
  },
  {
   "cell_type": "code",
   "execution_count": 4,
   "metadata": {
    "collapsed": true
   },
   "outputs": [],
   "source": [
    "%matplotlib inline\n",
    "import math,sys,os,numpy as np\n",
    "from numpy.random import random\n",
    "from matplotlib import pyplot as plt, rcParams, animation, rc\n",
    "from __future__ import print_function, division\n",
    "from ipywidgets import interact, interactive, fixed\n",
    "from ipywidgets.widgets import *\n",
    "rc('animation', html='html5')\n",
    "rcParams['figure.figsize'] = 3, 3\n",
    "%precision 4\n",
    "np.set_printoptions(precision=4, linewidth=100)"
   ]
  },
  {
   "cell_type": "code",
   "execution_count": 5,
   "metadata": {
    "collapsed": true
   },
   "outputs": [],
   "source": [
    "def lin(a,b,x): return a*x+b"
   ]
  },
  {
   "cell_type": "code",
   "execution_count": 6,
   "metadata": {
    "collapsed": true
   },
   "outputs": [],
   "source": [
    "a=3.\n",
    "b=8."
   ]
  },
  {
   "cell_type": "code",
   "execution_count": 7,
   "metadata": {},
   "outputs": [],
   "source": [
    "n=30\n",
    "x = random(n)\n",
    "y = lin(a,b,x)"
   ]
  },
  {
   "cell_type": "code",
   "execution_count": 8,
   "metadata": {},
   "outputs": [
    {
     "data": {
      "text/plain": [
       "array([ 0.5073,  0.5891,  0.8897,  0.4549,  0.7582,  0.4468,  0.9487,  0.1396,  0.2825,  0.8487,\n",
       "        0.7713,  0.9786,  0.0623,  0.215 ,  0.1611,  0.3648,  0.9312,  0.4814,  0.4974,  0.2509,\n",
       "        0.8411,  0.999 ,  0.7968,  0.5037,  0.3544,  0.3413,  0.5823,  0.9838,  0.6222,  0.3187])"
      ]
     },
     "execution_count": 8,
     "metadata": {},
     "output_type": "execute_result"
    }
   ],
   "source": [
    "x"
   ]
  },
  {
   "cell_type": "code",
   "execution_count": 9,
   "metadata": {},
   "outputs": [
    {
     "data": {
      "text/plain": [
       "array([  9.5219,   9.7674,  10.669 ,   9.3648,  10.2747,   9.3403,  10.846 ,   8.4187,   8.8476,\n",
       "        10.5462,  10.3139,  10.9359,   8.187 ,   8.6449,   8.4834,   9.0943,  10.7935,   9.4441,\n",
       "         9.4923,   8.7526,  10.5233,  10.9969,  10.3904,   9.511 ,   9.0632,   9.0239,   9.7468,\n",
       "        10.9515,   9.8666,   8.956 ])"
      ]
     },
     "execution_count": 9,
     "metadata": {},
     "output_type": "execute_result"
    }
   ],
   "source": [
    "y"
   ]
  },
  {
   "cell_type": "code",
   "execution_count": 10,
   "metadata": {},
   "outputs": [
    {
     "data": {
      "text/plain": [
       "<matplotlib.collections.PathCollection at 0x1f243d0b1d0>"
      ]
     },
     "execution_count": 10,
     "metadata": {},
     "output_type": "execute_result"
    },
    {
     "data": {
      "image/png": "[encoded data removed]",
      "text/plain": [
       "<matplotlib.figure.Figure at 0x1f242a9c5f8>"
      ]
     },
     "metadata": {},
     "output_type": "display_data"
    }
   ],
   "source": [
    "plt.scatter(x,y)"
   ]
  },
  {
   "cell_type": "code",
   "execution_count": 11,
   "metadata": {
    "collapsed": true
   },
   "outputs": [],
   "source": [
    "def sse(y,y_pred): return ((y-y_pred)**2).sum()\n",
    "\n",
    "def loss(y,a,b,x): return sse(y, lin(a,b,x))\n",
    "\n",
    "def avg_loss(y,a,b,x): return np.sqrt(loss(y,a,b,x)/n)"
   ]
  },
  {
   "cell_type": "code",
   "execution_count": 12,
   "metadata": {},
   "outputs": [
    {
     "data": {
      "text/plain": [
       "9.3239"
      ]
     },
     "execution_count": 12,
     "metadata": {},
     "output_type": "execute_result"
    }
   ],
   "source": [
    "a_guess=-1.\n",
    "b_guess=1.\n",
    "avg_loss(y, a_guess, b_guess, x)"
   ]
  },
  {
   "cell_type": "code",
   "execution_count": null,
   "metadata": {
    "collapsed": true
   },
   "outputs": [],
   "source": [
    "### Our objective is to minimize the loss \n",
    "\n",
    "## What is the loss \n",
    "## Loss is the diffrence in the real value and the predicted value of variable Y\n",
    "\n",
    "#y = aX + b "
   ]
  },
  {
   "cell_type": "code",
   "execution_count": 10,
   "metadata": {
    "collapsed": true
   },
   "outputs": [],
   "source": [
    "lr=0.01\n",
    "# d[(y-(a*x+b))**2,b] = 2 (b + a x - y)      = 2 (y_pred - y)\n",
    "# d[(y-(a*x+b))**2,a] = 2 x (b + a x - y)    = x * dy/db\n",
    "\n",
    "## We need to minimize the loss so if we take the derivative wrt to a and b "
   ]
  },
  {
   "cell_type": "code",
   "execution_count": 13,
   "metadata": {
    "collapsed": true
   },
   "outputs": [],
   "source": [
    "def upd():\n",
    "    global a_guess, b_guess\n",
    "    y_pred = lin(a_guess, b_guess, x)\n",
    "    dydb = 2 * (y_pred - y)\n",
    "    dyda = x*dydb\n",
    "    a_guess -= lr*dyda.mean()\n",
    "    b_guess -= lr*dydb.mean()"
   ]
  },
  {
   "cell_type": "code",
   "execution_count": 21,
   "metadata": {},
   "outputs": [
    {
     "data": {
      "text/html": [
       "<video width=\"500\" height=\"400\" controls autoplay loop>\n",
       "  <source type=\"video/mp4\" src=\"data:video/mp4;base64,AAAAHGZ0eXBNNFYgAAACAGlzb21pc28yYXZjMQAAAAhmcmVlAABOq21kYXQAAAKuBgX//6rcRem9\n",
       "5tlIt5Ys2CDZI+7veDI2NCAtIGNvcmUgMTQ4IHIyNzYyIDkwYTYxZWMgLSBILjI2NC9NUEVHLTQg\n",
       "QVZDIGNvZGVjIC0gQ29weWxlZnQgMjAwMy0yMDE3IC0gaHR0cDovL3d3dy52aWRlb2xhbi5vcmcv\n",
       "eDI2NC5odG1sIC0gb3B0aW9uczogY2FiYWM9MSByZWY9MyBkZWJsb2NrPTE6MDowIGFuYWx5c2U9\n",
       "MHgzOjB4MTEzIG1lPWhleCBzdWJtZT03IHBzeT0xIHBzeV9yZD0xLjAwOjAuMDAgbWl4ZWRfcmVm\n",
       "PTEgbWVfcmFuZ2U9MTYgY2hyb21hX21lPTEgdHJlbGxpcz0xIDh4OGRjdD0xIGNxbT0wIGRlYWR6\n",
       "b25lPTIxLDExIGZhc3RfcHNraXA9MSBjaHJvbWFfcXBfb2Zmc2V0PS0yIHRocmVhZHM9NiBsb29r\n",
       "YWhlYWRfdGhyZWFkcz0xIHNsaWNlZF90aHJlYWRzPTAgbnI9MCBkZWNpbWF0ZT0xIGludGVybGFj\n",
       "ZWQ9MCBibHVyYXlfY29tcGF0PTAgY29uc3RyYWluZWRfaW50cmE9MCBiZnJhbWVzPTMgYl9weXJh\n",
       "bWlkPTIgYl9hZGFwdD0xIGJfYmlhcz0wIGRpcmVjdD0xIHdlaWdodGI9MSBvcGVuX2dvcD0wIHdl\n",
       "aWdodHA9MiBrZXlpbnQ9MjUwIGtleWludF9taW49MTAgc2NlbmVjdXQ9NDAgaW50cmFfcmVmcmVz\n",
       "aD0wIHJjX2xvb2thaGVhZD00MCByYz1jcmYgbWJ0cmVlPTEgY3JmPTIzLjAgcWNvbXA9MC42MCBx\n",
       "cG1pbj0wIHFwbWF4PTY5IHFwc3RlcD00IGlwX3JhdGlvPTEuNDAgYXE9MToxLjAwAIAAABLSZYiE\n",
       "AD///vdonwKbWkN6gOSVxSXbT4H/q2dwfI/pAwAAAwAAAwAkAvzHv6EHQzQgAABQic/gsldNihxs\n",
       "chl3ZXDBVa+0R31HzvW5WhBuBxG7GpLHofLVYKfef8zvXC0dW1jRmoDONOx8k5cfNLHsjW0/00Lh\n",
       "mLUOWxW75aSQ6gpXj9gAH8gzDO20YM+K7zMGozTb7UOPtrQZONY+6FoQfMZqOmcIBLuD0ycGgyPu\n",
       "/FOORcJmqLgmp7texigMCADDLPT3vrlWi6dNV4w1XtYCER8bSRFlCWx2QmvBoJ6UUBCSe6WV83nv\n",
       "uuXvyO1RC3xtYyn5wXmnKuLS+PUDiDI8IdGjZbB3dhMGfuB69Nwaalebn2SeXW2k1f2PMd0KIqkW\n",
       "pXzWihnXVXZp/XLvXnKZkM2M5T9GiWgrh+EGrBsSXdwmx5TEXsLFUwAACuAh7q0bSZP5ue0YFQkp\n",
       "mBdgOoLTdM9vJXpHUFUQNZdx++1sEIviGy0NBmqVPD/f3pO1sEHPlnocIpQ/ljKZIFt898lbUpLf\n",
       "R3DoGXafSlgbcWTl0DkbT0nOt/gTO9yYANSeEkaWcIahMwSrPn1nH2nJ0VZg1HvDdJ36AFFRkiOv\n",
       "Fnpuq1ylsTqEJzerW7xqKTc5sblOG0f3cvtUx+tS2Lw64LS2v7zsd8SMK35xtKZ5SkkeOHRyy8uj\n",
       "IZxM8UfswPNNyce3zqvydrpDzOa0/BX+Ov2H/pWbQUNJGI4nOmd/zke85Zeo/TERIXgCxvsWj+RW\n",
       "sG8XX3TsJD2Ph+QFAAyocvjgfTPaMNeY/9STW5tiEa3CPoeSOvMoJ9dx7ECwCH+CVg6tg5190BDD\n",
       "u5IHaQiI4IUHxNuStjkiqy5TfPSVN/8GkK8WrZqdsqcRl76jzZ4QuIMS1EPP2vIiLC5KOuDbvUZ/\n",
       "L1ShUww1RvLyHFZqzdvAKW3WPBPfbYMakiLwjbXE5zpT+X2Twz9upvRghoK9zq95bJLgjDOh6bzG\n",
       "0zH+h212tY2sUNmIdtX2es0iG9qD/fM/+p6jArOCs8FBYSRnKv+VSuryjkNTrCxfPnWtkfF3PXyH\n",
       "h3BjoMyguoWrK8J1qBiYMorFd7v4EA9qp7VjUt2aGZLD1wTTwiJxWf9Q6ifunnlBtO9VxTVDxQ3x\n",
       "KP5uKx5wx3Vvc8olLWCkXiO8t6yk2rxhCOsz01UVygBF0Ke+UR013MxRXV/eU+xn4reUSULGxJVw\n",
       "84IzKeoKE6twnqh/1INK7mWqSfOh4WQ9Dcu0P47XyjpD0dBrQZYi3xlS+FX7D4JOfXez6sAGy/+h\n",
       "ElVGBvscsAAAEzwePvGEdNvi3TbDWzFDh8wzrcN3h8FHhYGln6/+/MBS9vWN+H8u3HQUXOjghXdI\n",
       "XMYj4yanfdiH6P3iQ4Rd92fI/cX6EGhSr37Pg0RLbRDS8u0v/RHuO1yzVIrluxzEHxT0pKKIvxOG\n",
       "5RZa49Ft5G17A//H6lEMKq0kTeq9/8N+XXi4bNTsQ0IkikJcJq4hAxrzRQzumjVXL1uq4z0Pe/fc\n",
       "lYS6vHg/AfVlDfiUDLtjxyPT84Y6GwsFgtNgQSRqTjfS+vYbi3NkcO1z+9hHNgeEGxj3l6dSbmmh\n",
       "XDOQN5tOhoEezzHBIBlSAyCIMn6QjDYZdzKIFjcYg2HCGNlXNGiw6t+erEJSL+wYilgE6cdmukHK\n",
       "RcIy/JsODImYkzWKbGNuNE5EJY5+CFMd8xLnh2FD6QMzFzKZnnb9sIYDecHu9ySMLXgz+NiNLZ06\n",
       "TFwlUsD9nc1GBzKjtklyEyJQkHVRqMdTHVJSLXRITqAGKzPBAkLvzmXyQo0Kab2uyksyHBzzuEjN\n",
       "ZrpGhbQxpW0VJY5/+ad4RQXi26UMyOmpYB/j3criGkRxAKPRc7R1cWHUKM0YkJEfoGsg1BsPDMAD\n",
       "yhTS875yzbQYfH75yrZIHHFZ4BExKjpLFQgh9cHxtwH/MEYqoChYxQnrcqeS9RqCeR3Ihn4gGdwU\n",
       "ISIad3ZttOCGJlo6KIT7nQB3bwwgfVqpoX/kXLiAnJcvGik7GqEi3y9dbsBucGkiiNIaxca69w92\n",
       "1IbDjBuxph2Jzf3cbWwgsOIgKSFymFV0gn6r0rzXu8zxWknWfEy29KL9iSmbumOXTR8WvSA/Mj0e\n",
       "HFHOgqws19CVR2SokmeO5qisXa0lTyjxHd9l0oqPsPov06yQBoJ27dU0ahA1wubriKuzUyiqmFtp\n",
       "qsesdlR3ibWNWS0VJTrwEQUu32JCuOk6LXE1A6eSod38wKEFoYxMjERFZtD51rLbDpG62HWl9HbF\n",
       "zDnSv1hEboAzveReJwOPrqqpcmrVPHoP+wNC0Zb8OrnMy40eKRkRjIjrVQKzBf3fAjjoUF8aHfkT\n",
       "1dthiKTbxpUYS9f1mk1CNUMlh3BAbhWdKE9X2nPA0s0b9/XLkk2fPsoS24NUd+aiO3Ya0qKXp0Sw\n",
       "bulbId29YiwX+qvT9jyzeISibM+OSsP5+NaiFlXFbrXLa7ytUhuvsrku9bNRu2X+LSGTJd1eToOn\n",
       "qqtEbggyAbZXv+lHLuzAt71rLCUkXJcIl6qlHR2oOdDjw0eaptJpwYQwxU81lEHycmOXSSELzYWY\n",
       "I55cbiGiirhv32pPXjaHIjhyZzkIUkiwt/aI5KRsLD8KsPo8ixKx8H+jxUwuhkCjtojBTOcuwDNt\n",
       "MLVQYBnXUkTMAmGj8BXWAlhIpb4FFwA65/dqZiJYfz+2JFvmyPor8A0kgy+ev2BWs10CZoLttqU3\n",
       "APvfAsg8ypjVOX5AeATJlZeKli5oTN69uc+aRRnV9WgSd36bH/IPVKzBlno6W3AXZaKjqyw4tyJ3\n",
       "YsyKkHR3gIgcoKScg1q53aAOutIndYSFxMp/8F0qSK7iGBwXsAAB0QmurgBkO9YtF4HYM5v2zl0z\n",
       "oyAtgCirFCRPnlcTebuHxze78ZHbmVmNjDorvcdBoi8stDhYr/UpjfD7l1QipCtRxbR0Jtl0qSbr\n",
       "fdHrmX+U7SJtkCHZKSA/EXVb/OK32Tdyw19dwXmXvV+HFL0R5uwQG5R7AatfZxapFBB15fzCeTkz\n",
       "ImiaEWKyoL/Y0qHrCce2gEfWrhroljYdIuwEkzOuUq3baFfr4AqR0/GN/B4Pls30mzeJ1BlVlmYz\n",
       "MDyBRQRw96xKoVcwzCffZuny79GiZAU4bVKJ4uA75Xpttm+k+tRZqwryvUSUll57qNK3suDuDwD1\n",
       "GFFeZ4aTZfQMBBhLr6Al3aUqIeUXG3afxaYXV8c5bREzN3NXrTHe7xUbBnfq36IB3c3B4F80eVuY\n",
       "YcFnfMCP9qYB/xpwr9u42hDYg1ZH8NfK+ZmeUEBBY5iQGpUXpaxpovZpC5vIVZR3KUZy+6+7fUof\n",
       "KY1rnsEM9TyRVgDPa+ig0EgjmfmVoG8MciVCwe+0009dE+XEwXf6AsJUMcMnzQ4CkHQHMUztaUii\n",
       "jGaECKdh9D2uAwjhX+cfywKWoXpZdCftqPDfp8un+xA1EC9j7UbKrxZvD0Z8L1rP9+DGUqBliIWd\n",
       "PGi4jfAF9iXfoERpE+l1UVsDk+hx0ZhplMEOSyc/z6yfs051OYZCgd/QlRM4PvF5ok4zvbkn7yD7\n",
       "5MrAAEgQ10QJbIiYEGA5AIYHNYLKV3TrMmljSufKzhrTv19ZdVdWw/IocdH+XyycniacVqVmUgy8\n",
       "5Q5fiOpqAF71r/pWrFruMfk2pUhka8A/04sbPwZESEu5Qy6/7cn5Iv/vO4OjhOP5oz728kd2EzOE\n",
       "dcAAznvPP+Lljl0gw+Q7/C+PqUBOgZVs7GPPnDAy+ZDS1D0k1lfxRgk7Mr2R6NXtPAOmN4yFZ5kj\n",
       "27hgd0imeZ+MJmfC8MfEq3c3pcQ7ls5XKHl9a4gnVq1jjZXB7q0RzgZxnZnFmucL/5t7Xpni+Mtl\n",
       "xWDg05GRKElfg1OZNXZqhsscOFJ59L41vesc0PWdEq1tiskIVwOWRSVKh9RmBDTW0TGrmXo4PZ9a\n",
       "M84+Tv2S9OnVL870up0VPwFVjZnErj0IzhveGL7V/3hwEy1PIGAleLvV+WKCOjTbM/deXjb8ChvJ\n",
       "aFfSqzCcQv1or8xOA7KRpS0Bb877cHuF4rvnPLPuAOqRSBwan01a8HAZ/jJ0cA21Z7LHXHnQXoQb\n",
       "9hF1Of+ecJ0GeFyx/F8K0x7ut9/ffc4Q6mRdXvRamgYfyZsGJy/zl+ETxfj1NeewocXe8Y6VOqNv\n",
       "1Nih3JbDGJpiGATMdRR9wi5vFJQXtXMIzk92wvvO5rsz/kwR4O8YaJozJ9oDzHqdijKkEi9DEXBk\n",
       "8q4FcFdtKemFQTvdxQGbfCetRhDWJbNv/iJNEhN4sKSNH5v94yvW12OUhie4uAAAAwFJAAeHCD0P\n",
       "oIl3R96fbrH+c0/CKzHrb87XI2+tJCAu4moo9rd/unURc1xBHP3m0VU7HqYhFmwhr2jr/K8s9cK6\n",
       "1S2oMhQBtij4ChyxjUcDvPRB82rgN3xBBOCcm95TKs8yNJP5dqLn5fJc2GNTEsmcmrKfO6Qvx3nF\n",
       "d6BRDXZlV1D1XshrSBcwTxQXWj6rO24whGNqR6pBhOao/lrCgI2I+eKXlWPXGJJL/kWgWOpfjREC\n",
       "YON9pGi6l2TmaAczDIKQZS0DbQwpt8+3V4B8Cz0KnmwfdjC66NRz+gIXTBZGVTapw8ktlh+bpkk1\n",
       "rizs+dcDtfIsmGzqds3V3JDVMilNjmiKOrKlyJRVIRfYqm48xTX3+B7GD4U6ExvwukAj3NWYhe1x\n",
       "1NmIuUoXeUH0He2XZxnZc7nIEx9cIYLvSKb+UByuRZXmG5+EKgPhvk2DI2mVLTIkBr68MjKL3x/L\n",
       "/DS43N8Kp+ogzR5uHKr7C3Vr+dJdcfIY9HwhcmNrhQ/PwfeTpCLmxjPXJWrCMpZpf791x32u0+7q\n",
       "twF6+q/P7bymLfRSZ+Tb7WZvE6ioTaja3MGYUeE8i3QW6BpgFfGH/NG08+SFxwpflKY+21GmCzD+\n",
       "k7kvW5nMUWGsoH8e/GnAWJdBUurA/0cFVvF6jBSHPtxROmJeH8jzFpcuLf1KsQ8/iw+AlDJRZC7M\n",
       "8gH8ZfH/bWYb34HSr1jmSgF5R3YzlBA40y9ni2H173/qIZNtSKI1rkePL+TWJvG42Rv7G9v4KCcr\n",
       "3ezfOL4SV32XEnch4FO4wdpBpdOwd6kg9d2T1xSIypeLz3wqIHgt35CyR+XyE2k+pkjw2OCs4hB1\n",
       "zRdAg9Rsa5uWmhUgjCpSplpQadiTUs/l6xlqKLKF69qd0Z1ZhJFsm+BDZkl2D0VL+hHpREFcZ7OD\n",
       "ZuAEJ3t8FH3uoa8Ki4jA1yZXZ9BgJnI8jNCXQ6SFH4jcI0R910EKH2wHvuX/EXXeN6Vuk3MbiGkE\n",
       "FPFl7txPja9x0P6fpgFTNY1uDwrw+My53l5hHDNWH4vEJc9EYvB1suuKIH0Jg9Q3+3Mpl/WHGuFh\n",
       "6ibPnaX8CyXwPN9YJie/gjoESNNv5sTRNMDrHMnMCIqjC8D3gjGdYnoHhRbNTSO2MgYUqfaKo+jf\n",
       "IBxjUHdAVyBY8RWO+1D1m3IfpXtpjfaJ6PjbPjfYRJ2mwMYcMW21e2yR9+1vazUFTeoRM2/iUq9Q\n",
       "3neb2DVYDaHvqnvmSk5bFACQqxB4m/mdq1zePYyncCZri3/DrngoZpFH7l2x7GYXMEK9mb6JXeDW\n",
       "6LEQ62+YGMrZeV84BD95Xx9QQh5BK+u5Vi5q6tkUWYw760wmnc3AhtmV/y7nVs1pgc65+ND2Qcx0\n",
       "8noZGI5/8ngKVG07duaVHoWsp/RtUilDxdFoR+F2DsB4S2p5oljdvSM3qNIfOtCsXFpDJB/DLrko\n",
       "WQQn5gZAXsP8qH6J/nZnuieZfZnPUulRqzXwhPncxGuUxncJGbgPOnS+VXHQ3Z44ag8QErY+4qrh\n",
       "6KRWRyhp213FOm9d8h3JmckjE2waT9T1HwcrZs73ZiXtHt5UChlvWjR+QiLvJsU+OfnlMZxh/k9p\n",
       "QCLdzCe010FitCo94iNVcJ5qdLz5A8oPiiDjl6DU49Kn0O8GwyIh6d1TzmJcza3mRXaBnAcXUTNA\n",
       "BllCI7OmVEzCriWunk2R8yBrjftzAd/sYEGCKV0vTHQmaCFY1bzrqHmiZPmBeDkIOaxC4uXXBHZN\n",
       "rzSV7MRPvdt3fOW8P6ZXfrsKrNv274VjYBr25fZqQyZ839TkoqbUNIMT8AhuQM1XJBo+Gpb7T+7V\n",
       "uIrRrc8zGcm0iZsYHswW5EPZpiZlzTY8HGN7C5UERQ9QdkIaXcQZEupaLBfOgt9cxDeMtzAAxOkp\n",
       "/nXucfEz7otRqR+SHzb6wKUJ+/hIvm/51Z/tDsg+V8wz4qoty5iK27CMyruHjWhQJnUYdNlImr+V\n",
       "KzwoZxY6kA1wHt6JiZZv9+jq7u5h4WLmb/Pgp824fLqueLvFdidRZERycCEXTYT5KOE+GYGH26aK\n",
       "f9OH21QhRRFgNPrZUJvv9v86vdFoSMRIAAnZAAACP0GaIWxD//6plgApQmXoBR9aMpj+yBgZkwkx\n",
       "bR6w+fP+37j7zkjftsQ9ye83wSXGtfGDKgoZMxem6pU9fjwGS4RO7JyaPQcnQw9YZ/m3qM+itX+g\n",
       "gUfks2XBE6/Zzg4EoiW+/PXi8qlul0cVx13RQsS4aZ3xlFTpxSPe4QUOl5AwOexzGSNMMhSly5vv\n",
       "IYGQco85h+1thsbq32XPeG8SxPaIXf3ihV1+NDHaGJH1US/AwSFMzSAaQ1gKGjizdWd2Ag4OUxJz\n",
       "3tJeZD3ziod+k/Sm6zzAEMp7NCqxqZAfxCYXJcDbDeJKGMFxuPYblWGlsvIE17Y2DyUDSnRaTjXq\n",
       "nF1tsUi7WgXKgHaYP6uEPxy/UWBmtKnJqjYXvSkFWZawkQhWuynd8kODsBftzVGaT7ACj97NzX5G\n",
       "Q2rbRkZHe2CJt+S4PAWu4A8ArTNPBvv4MVWjzSl99nI72/lOiVihJ6UVB9O6LGWFanO5vwD47b1D\n",
       "3xCpyN4VI/XNen0QI7YJ0g61rGH/rk/3Ptd9o/1TwqGrmknEGHse23W2fBLx4eN0fWYEN6yL8AZO\n",
       "KmQ1skoG8ko6zVDlL+PndaZbGfM19QwEJIq/scyOBXYUCGQDJavBPbImabzNuJ6dujqI4AGGCFfT\n",
       "zqekKjUqFoBGDMS/qgZ0a24SEES67AAAAwGoSHUAqnAB6nK4+XfQ4+uaL4cZdp+psehfSyALTfNr\n",
       "JdnBGVtYZSQ0jODTXcBW6pgbcrlPL1RkbYQ+nYBqUmItiXRgAAACoEGaQjwhkymEP//+qZYAAApP\n",
       "ObGgIJ7dK7GPxgmLQgvhpqEV2poQkqkWVCUV9znRHHY+EDSb7VrvOymf3BSzwEAUO1xMOBtm9pB6\n",
       "qHTaAY7Q9ge8HgWCQQmRxnoA6iu57fpRKZBNW5lWa/SGIqHUUjZzS1mjRVlBLKZ8ZV3rSL9UKSIY\n",
       "xJDfCJkUO6RgsK8uyM7WjBpncutKVfdXeef/WOCjgyS++5h2zwErnTGhgjw64NXMIjcQ6YAk50ig\n",
       "5E86364J+Zz9BdK4c1TMh8HExFb0+UYlPq8ggyt1sbS9W4vqUCU8AZmikmdpmchWZwdGzisGhDeH\n",
       "OcwoELyv1ans2mOPsxc+7McDeaORks419sk5aU6ZeoEzOKtihY7YVrkVgrtbdFNk72cNX71ESGnZ\n",
       "J2q3frDKi6P2jgMeWJ/qX8bXhD5X1gsPyHtPhDUqciOP/xoe/hyNgUmFPuXqjMb2Di7JPXQs29Bz\n",
       "8SCcJSOHRmwhoNroXUnoM03FqB4PtN7kyO0WWl/e05kV0IUDH9/Bq17N8ts2DdPYouJabSxBUlEM\n",
       "rD0Zu5AEcWv/54HBN3UVYG73RxAvyS/zRMC35ACi3Ad9tEWBtgvdReg+mKzS5Gs0Xccyd84O1LJA\n",
       "r9ZK2XdTiLR6gSJmanFhr/FYaoyDUFI/MTpIhRoi8zhYUekPEXUnEOqjPxT/iLTinWiC21NxfC0w\n",
       "qczbNbOvooO6XASsQt6Ate9nQDsicnLAQ6Yu2xWodnyKawe6PJdNkNUYBt6cvQAj1Sin7NysNSxj\n",
       "BHjxadjMOCDvR0qYZeEyjk8+rN5mjjc1nYmhD9sbKtG5wzxy9Zgzcv+eBTpfglKmg/eBvu2o8VRD\n",
       "whYueYkC/jyvvg5Vh5ZANTulpAAAmNqZ2WABhQAAA4NBmmNJ4Q8mUwIf//6plgAAKXwt+4N8UAEP\n",
       "2qmN+bWJrrs6e3PImkjdR4T+61xypuqaS0YMdYyBLNubXYxAYWMLT1p4JY9r975FU7yAfQcGE6Jk\n",
       "VZPcV/+fWchYeGrd6A+5yBrqBCpby9h7CCCxyYCg3vODFpP3bIWYYeAYuI7Le23Ky9O1Xlgqj/TU\n",
       "erN1y93loQoTFuyWlKH4XuL18+Vxw17fScZizH/tDx0U6qRYWc/uLYo1Ou9yiANMlsE33mYRnO4q\n",
       "AQrXEaXJySWOPnQga2zLGMOJrJaVuq1nIrRg586bLgu0FrI4jOJIwRvjrjAmIy2ycRrYIY3Te/AM\n",
       "PKkvOaE3fdvUelihn5ge+5PzUcfkoArTJB6Jwq//n45MbW+EOKI4C+BQe3jR4x0UB4CzyWGh3STi\n",
       "7tbdtg7kCGJIt8C7FHwUPOwforATSP4tTdESYIeA6nxibDRne25hjNdjEhbF+ilOtIONQiA2zBRp\n",
       "16hwTak+7pWOB17a34EbQOJ2IEnnIHLZMtzaW+IQH/uy4WgK2RPwmmWXbJIfzQR+rZIJGqSnnlLX\n",
       "FlTqJj5XXaF3YUZYSJvQZ7GNWwI+LfGSKn2zstmM5FQC9hD6JZyafk5tmsJZix7OavkmTj3kPFFd\n",
       "zX/XndCR+SxXo39jjFNyNT602EiHqT8vVSuspFaaSkX4CmpCF+xBDDTBv4fQEuRddtxkfuBGEC76\n",
       "1ngRIQhpabdIX5Rttb8TaX931uL9U3+nPDoHqH7DUk6VIw7KrnqfxZc8VXCfKPwNSgBga3fsuktq\n",
       "SOVxsb6lOgBQFxW5MqZBhCuWpqMHILxqGVEFPPfhCh74Qec7wFZ6kF12ano88Q5QvYsqo/nXHDhe\n",
       "hjFq488x9J1KlnWLUyVcAq6Zwq5EvjexEY4kil+6SRe7zmoDNv3pBW2b0TLeNRX2o4jB5jAc5opL\n",
       "J703xZ5soMJ/5ZCpN8Bf9gv31oq3BHQDVKPF6chN4m2MCnwcAzZcI2/WAeBU3mRkn1ARvqihlKr1\n",
       "IsrpELAm+fgENnYgBvLCO75xQTAbVskH2MHm/exGcJWN4zxmH6qALYpxZKDlzX1xjSrEupnplBpU\n",
       "ZyMusaK2b19yLJF8CpO1vy3lzYOJom36RdADzghQitHxhQs1hsvzwWjIkMzrKh7MkIi64ksRn2nE\n",
       "ZgAVLcU7gAB1wQNjnwiDp2ADKgAAAp1BmoRJ4Q8mUwIf//6plgAAs3C37hv/VACE7Kle+mAVx5Bz\n",
       "g7aMy+Ho6/pEhJTypjiOJLtisvxJyntR8Sfe7gwhK7vLs+UPtXylntrLvTWoxqwWqKtoBVFgNEVY\n",
       "xq47j0qypRasEVuCzGmc4WgbU5Pf8IHjRLNGBtvA99qNh7PKRQ4V4JyfXXjBi2Vn3I9tY6bfd5Nx\n",
       "nQ5//9NzSKY8rWIPqbMzR7tFzk6EqpMi70vducgZizV9PvZOoTsZkOJ3gzdLw5pTgGBft0o+Smer\n",
       "aGbE6/ruPnsh6C1BNsqQRb0/yIjU4Xktj9iVJKp+NJLHW7joig/WANUsBH3SDg0EMYZqXQKXWD4R\n",
       "Ar2MDpWKFJxsCz7zweSTO4P6pe0gD6OICzK/7PbNgYBdH4bMdrOyVkAUK2VlPCWNtMZLXAdeAkON\n",
       "3Nm/mVhGNGdcik/Rt1pWZznJhFsp55ohASO+NZ7VPIX2M9qOt2DCz45SRfiXBvIXELGX/huqNUkX\n",
       "k0Z9RRjCJmNHpsnqx6t14ahFM8DygjYOj1eX3hcQ+1fmmg0Q1qrQlXgRiShDd7e4Hc+dodseLWyl\n",
       "dbB1LSv7KZK1XJ+2L1p3IzABJuqydGLnvl+ijmKV8jLUjrTPNVaeQa5eLrM7qa5wvbnkT3Ud1eYf\n",
       "HealLvflLwozZaVkLbttSeGsxjIgiK08f5C1e1WHwUG9r4EdoAMBQXuvkCWR4cCByhdfQ1Rnqsec\n",
       "CoDqIiIMptnafVfSIUHGoHnomgpTRmeTFr6uKEXVuJ1ocmvsN6PdLBqbuwCmNd096sagLU/nP9EM\n",
       "zk6RHowmFPU+8il76KAQXpHLEkJdnx84It2pXqQAVYA7rH+fDZbFiewqPEu+mQAEAAECDO83Febj\n",
       "2V/4d7aI4+EAAAGHQZqlSeEPJlMCCH/+qlUAAGynsY3ma7wSRFbG5/v/wjpFwAt1FERH3GSFU1w6\n",
       "igc0vJGE50ee0YwnyrXaQZbcOcRFmRR90QdexarGMKdHWCZo6jqxHi9D9+aIf5d8iouFp5OGHM0E\n",
       "luVrLrxpQjKxX0twbHM87GrFC0aiHq7q2Stw2rVDZjGB/T6btcD4RVwsUn3e/6eFdmMgx1UPiIZF\n",
       "7IheG1jpmDF/f8xX6yZ1kV0AdesFOeWI353EhDU4Gekx58OjUiU96ZcklYrDY5V1p/MbkYvHXDLO\n",
       "hU4zAU6/l2Sz26kkbdxSCsVmPLOI2/alkFaKqzR4Xm7Xf1wU0G1YkyzR2ickHcqrL80UfP5hcoYp\n",
       "lwd9mgFftIRimV/c7ksbmUJso8TqzH9k/dB5e3zjbPMVWoK6YxD5bkqiHbJvhyUdmWLjfCvnXDpN\n",
       "jNQ9qrr27IyqCrMuML5wlMomkFiBiEiebQ4O/d1qblPCqK4pVBM2KVjFaOUAeuHTmCk/zTs5MUAN\n",
       "YIg44QAAAatBmsZJ4Q8mUwIIf/6qVQAAfM8Dn3ej71dU8J+kEkfoehIhgvO0D21od9f98Tchv4uX\n",
       "c5eSZbxN/08PZDhXJQB1nsZBpVtdaV7eMf0mqeXWL91M9/qjYntHptfVpIn2E/9z4fXxYPWwjNN/\n",
       "imzdFbVXvPCmMdN8WU/Yrt1IumxgKA+tuPf0jrvGl6hCsHGHGdCaAox9xokDFGiAdNcyAk95NDnk\n",
       "PM0g/sgzBnNItlCqelD2GU9QlAX8Cl+UJeBC8QU5Eu41Bbdb/I0LUR6OeVGoylnScsxT5c+yIy3P\n",
       "mlirnYRAoU/REqUB4YBN49/X3jPvO7sbaDwkl+cc0xjx37WtNWqT2hdar3MdR2d/4Ui/WbUXSD/y\n",
       "jDkgzNTpS5ZMdRnZjXOVfAVjnkTyLyDIh41+DSOHbkqNXQBgN6/r1O1fWmieTGr/9HS7ZVk7jF/O\n",
       "E6/MWHW+2vPz3JltJ9TmScnE+1JICN48+PQzNOZ3CxLueFHYMocKDJkQCKhv67axcIsHNshW6akF\n",
       "AwM0GhH6mUfOh+V/GSFkVweq1+lr7JYXOUkw7owyTfB32oaNAAABq0Ga50nhDyZTAgh//qpVAAEI\n",
       "Pm1BoYX/wVJ387GzI5fQYClM0rGAH37/pNKtudricxvhMUm7CLTHrpOC+R8QVOXGZsK2JEieeQ7T\n",
       "7EYqhhKwb2Nl3p8pyQKAocp85xe9hpoQYI+HShYMyt4oWxJz/j326C3TXklEJ4a0XKQB8HCWNVwC\n",
       "tkTQA+J13cYZ0z3SgBS1XW/UPsfIUOxdMu8f6mgR2ZXTZaZrb5DytwIjE6Wi9a53CRNwtgXHjQ0n\n",
       "ZqnLRbqGklhZQIiDYg998EPv/mjKjBv4pSrsw2vy++TCHJEy9I/gcHyv7gY+AQI8FZzudE4pcdTQ\n",
       "5K24W2zRz6O2O/oqIn4XrUCrR2R7FHy4fwmlLI0BNP0m01gqbmsZXs+UoRZNgH/x+7uQAGYOqvMO\n",
       "I/d8+x3ymIH/x6uY+QomO1ZrV7fnUSrXzdpRVNvpgljmRMPjWTolfsZYsUuWWYac/FVlrmeAp2s/\n",
       "UyakuwfLJg9KreVuwhUEqPEey60ac/MQPW1IVtXxv2EzdtB9/4Rtk89CrbJKGFhFxS/nwcYcu7qO\n",
       "65AZ4On8UE5zRG0AAAG5QZsISeEPJlMCCP/+tSqAASBticXgDXOuLXz1qyDe71R+v7HlANHuvDgU\n",
       "lSUX7tf0rz3Y2uMzmVOjzTL/TviBEWtkuNSBlyrJuXFuQM9uvvBEejN1LYguJ/HJYAB2yOYpNgCV\n",
       "Rz+jTiPff8D7uWCgZAYBUz3dtvB9xZ7Pv7k0jDOWStX3SaECl4nc8DoERX93ahhH9g59F3YRIFl7\n",
       "UOMWA3H3y80WIyVX1HVh/UF/IYKWNufWmzwMG7ybTrmjGffZCOu3KqG1QgBOJL07ZxObF5a6ai/h\n",
       "f/kcLI04crUU27XwhHL2B5mrE4svfbAaBT8zjNK1XhX8L5DX069LjpwzCyTkxKsouM1AKKKkUzel\n",
       "hv31e3BIQR8tZ9KnEzKOsaKyekl7ijy+u7sdENfg48OqAcKDTZhmLiTXbp77lSs2UbRbnkL1Eqg5\n",
       "KnDJ8MIM6PxIwyaJkik4uhBx3WtLvAvrXqk1kBI7B+Bu3yGgisLIJefwRQiNYcggKXhklnEXGr3Y\n",
       "iaSxy2xhu7kym9HXiLdJ47Y0KVDHlDhnjEWpV3qLB50MIkd7USCjiXWz+teN4WKri12JgofhOwXs\n",
       "AAADcUGbK0nhDyZTAgj//rUqgAJg3yEAFR2w/JEvo9t8bxSS04trqgYQTgPh0LslX6aGBn+eVbHf\n",
       "DzgZ7REN+zsRx8iiNF5P+NhTyeXfPuZoT5HskaUv9o+T5K0Rb0FkghinjAmm0N6Brc8JCDdInl1v\n",
       "WlgPU+MOChcCtBm0lVqHZxqhuyEnnqVSC/zAMHlSJg9PjDFhhrBcmy5Wkkj0Kam4fktd9d1SzU6P\n",
       "sONjjkmVjGqlAY9oK04iAz5kr4Lx7F4MwvQJ3wJMpwt9/ctk6J24BGFJQkjXaWOt0I8BFEsUft4f\n",
       "SINOoF65FuXR2nnnh7dCW0luaCKw61zIg7+HnWsMUQ8liBROOFe5bzEljTbDlrpXxT8qIwGqE16i\n",
       "Wzydwg8yr02/mfncDlOcOE3NBkBZhqns5gGBDOvOWNFPTT0aN53WazxlJAY+dei59Q8u27FioK2D\n",
       "8EIf85Dmqf/ZrsOUJni3QXUDimIy2FvDcv3GFn9BhhS05E423enRtJT4Pm9PzX+CU6uzT5EUD3fT\n",
       "Mh7P+v/B9TlvEfuHemaW/ek4Bu7FX6Gfn6ZnASiZ/ecaxJc9s/nXK3/287KgQCWy4Te6Pr0lW/yu\n",
       "sTp2eZx8/5AYiZgsnqpKSCz+MhVpslQCAeQd4zAaL2ujmXmECG0qgCDXChnMiI2roJdqv/dF3pDY\n",
       "ONT6QdzRzctdq0BK7dvGJ2k50GQNq8cGlGJKptlcYfMFef0E2b62kMaoMPPzbw3lul28mh5kKHvN\n",
       "cOJirspyGendeBNKbqDtr9WoAF8GqL6xvaiGRiGQFsUIDllEfVl2SWWrfM+CLze2jR//9WU+xu/t\n",
       "rZfKjw25ajS8nZhSPlrYdZjklpbfSFdb05HHnOpmAjAmlT1bgzhnFbPkBXGCP+jK/RE+yabTkyqs\n",
       "ER3tJPMs1/nrK+5c5UdJIH7VV2+Y0HzFzdErf3JDwRjwVD3jIOWt9H+bOyDPTfUEoeOfI1dFghGT\n",
       "zItgVKUxZR9t2PsDzthMHFZvU0iS/57esip6vps3qzf1FIG30FG7X0z4RYhsBLAjat0PtM383Eki\n",
       "qA4SVLyAfJaAVXRuoOuJ0TKwkWYyUel6UPJjErzh6M91twRIEtjq5mneutj76So/7qsEcvESfEG2\n",
       "Op4jMvDB0T4QaMYBic9g+FHeMzab3pU7NPusFQWUAAABAUGfSUURPDf/AA/hoCTZTvOWUnABan6f\n",
       "wl10KRQxXdfeABOtZ5VXhyIad12UhV+wVRcq61MEfCfH+A5PgYiuf/D8PbViSTaSZwMWc8BTDkZQ\n",
       "DdRZTUbK+/99f64HRZjxcuHKbkPfGgwYqhfmVWNsL9vkjLaQ90ERZWz9KHsAYMab2TaJEu9Tj8bM\n",
       "qEtonOtQ/MKVWbzlUQ/Mowf+arEq9LYCOUYW4DC4TtWPScXJV/SawFOHTmjUsFOWUN3AD5B6gATa\n",
       "3x7/95Dy2YCzqUu0Ntw1hK9IeKCDnWhCTBo0qo/+mazOXliamSQoUTX/Gd+nPx0jY2EqQ+zsADw9\n",
       "zTm2OB6RAAABQQGfampDfwANMXZeFK510y94jraADY0ryviwVJHFp9lOEGqyvsrz4YrvNbl7E1lJ\n",
       "86UfGyWLXJ+rGe5GPpAASWuTO5rzsbuUT4yTpqcqIujgkgFnTkd9sCFJ+tZPj6Pyzy9w6w/7C0nx\n",
       "kkospMpXWanh+xMgE92qddidon/P2SETc1hE1uFN+vn81/u4ihGk+DZEowe83XCPvILjq6xsr8um\n",
       "jxGtBdsHbX7+o+MwaYlWsG1YsVsGhr4EPGH5SrIB3P3vVHT85cY0WTiUNVv0ObGzUZRjCkW9VJ+N\n",
       "WeIPym4+SgzTnGL8oR323pk3x9ISwqgGI+aH35KhWmrXZ7/Ay1qI3XfxAQlQtmDrUMmE+n4hTN9H\n",
       "6Zy5OHxT/h1lXrrfb2bTymliMnZeetAkab54Lf8djVYiVIa5LzHxhyygvm/R3QAABGlBm29JqEFo\n",
       "mUwII//+tSqAApRSOQAfwkq+kNRb3MDAHQ5azJMs8Dhk1YHyPSIEjHY+f4JzUeAzYaqTsT/mIBtm\n",
       "tEg/FgywQ6ou6tQYzW/3cnv/qOt7pA8ufPaPjIfmIa8vZDxmM9cabvMK8aiV+vkxHPh4WavbJbr3\n",
       "CgfyiCzZ5HLeia/zdCRsG94Sl87cRmXSk+1+K5SNZajs1L5F7SiFPRSbLmCLRkQWJc/VRITM9v2K\n",
       "kAm+raernlBBQ/yzZmvqPoy3SoNqYqfd/+jCH0NG4ZOo/3Oyn2CIQwus7zgwIqwyn3e+uZuaFCsl\n",
       "noWl5hyGCuEKCQuTE1ui1JG2EgemjcB1pIYe8/CXcjgV6cKgn8RSN+jgcoY5YAlkHe0Iu3k5KU5C\n",
       "eH4z/aR/jF2l5u0pxflrS5H3rRDy4b2piiM8nzRBD2nf2kdcY+hYpaI4K16Qq9tOxK9Kf4VCM8W9\n",
       "/p9+9MyrWogQJ2bp5/nMdxeNrLkt+5WweZBuMqqGZJFBfY2k2rKzjslXkYMkdNjQSjtVDeCEPfYP\n",
       "Mrvo4ZY118xB0eyhh8fAAAW5zbpuJAkGmQgrpDX9H9WyWiORi64Eg6M+NGpY6dER1rbzAx+WkOlZ\n",
       "mIygNylzu/Oxd2mIklQTIOekR3O36l6lD3CsqBYTvEfBEVzKYcMmmR/Fw/y/D2y6TbmGRfXbl+Cn\n",
       "81HAYuCrCxFo051vtBJ67RL/KhwNyj6YAsWx3CJ7691PvkeMyPQrCHgebyYRQa4AOpB1NpMvBI8W\n",
       "0coj7nI9qEmky6EB5dPwSGjhHoIdmBhDqTl5pwSeSGXLENygxtRF7tsjSBe6/zdHBmTjSk7/1Xos\n",
       "lYpWoT+E01x2YItSfqxcdpSbhoZi5lSlBt2AHGyNSSlLr9DQx81eg0TA3vTq19ZQFLar67wN2ndk\n",
       "rRg4oWgG0zufzMmo5gL/7eCM5XPaKkDsQ55ySUkUGeCI3xl6kV1ioeyCbpsiICeg04gQx9EG9kHI\n",
       "rIJ2yoMBlCLxak2xxpc+AjhlyscHagRfXPre0usL3UKU/0av/SeFFxf3atG7BVXzkElm0apcjD3O\n",
       "+zmrMJX3cTgxEVGz85LSlZuy53pOExKZrthIF4QH50+Fl959NDm++cWCK8OYH5Q+v4C2LTHYZ6oa\n",
       "aPL9VGZgYsMpymd8D3Jn2zdXaaiuChjhe87pl5lHURYqqYa7OQPqINMRORr8DBlMSIJwQoXVvcZJ\n",
       "Et6k257HuxZ6i7HAvzNpqjZjDPcT4ltr7thLxW0HxPGE3JPSrvTGDnXulsYS43YfxCitc3RbP/cb\n",
       "sTVYptcc7fcDAUY1FPNccZrDMi5OVzMX840SchCGu9vQqlc1bB5mxiwKSBJMFk4YarAaZWFzulCz\n",
       "6YphmeE7DUtPGU0djKEXt274+ujan2z8h0qMMIFUKI+vPoyiLJkG/VCUt7LGPbdoPHN9qsv+OV66\n",
       "yI+5qPZgaaH7jK6R/uR+Bnr0EevsVhn+bqIAU2yyPoXKa3g6CaEjAAACREGfjUURLDv/ABDYANEv\n",
       "Ai44YuzSlwAIfrj4nB6Irum2CPYje0lNVxo7BnUmFKv7TWKrN9lBpkK5oxCRafkLXtphk1fXDZn1\n",
       "9rGkaYJsyCQoBMwv46AE4wvRItydejft7hvX91F0AVfBEa7XSQTMJNX6lYgu3hZPTeVJQb7clPei\n",
       "5dzS2sC63bmtj8Sw5/tKlmMyWZl4FyooUfoUXPaQvzs0FDOZ2MHergmT5a5wUgi0KfA/mGflMeoN\n",
       "ZJX5Xwvp3bCVHIMzaBz0wzAQQnvQFo2wW7rdZAiSNZ92UNbaxFzl2liYJTofyLDo4CuC52OZgfkW\n",
       "+MYtKuNfX/lfaWPU+mmmTJnPQUGYl219ctIriRyeGsqgs057z2ccQs/dmYJrcrWv+62aNSMOOhpq\n",
       "sC4VQfeilLnjCan6eVEsq4JN/mxz4e7ILoTxK/Bd0oE7CCBvxEjvgZB0EsLXIbkRIQvBMLQ8Z0UK\n",
       "wris10ffhcudrvUrgTkrIGPaKHHEn3Pp+SHR2vqCDBKHBZ3rwkIHWIZDKDyT9XsRg55C7yL5UGDL\n",
       "2dLp3NL5tyDr3Z/7p2/gcxytWh9Lt6khdgaWuGRWYAfzw2Wl8RIgmqWnBkahAxasvQL3NNdP9RjJ\n",
       "jd6qQHS7mBxfNX2SnT90Q6g6SPKCVmlsess2tCMjWcbUcUp5uizSXP2pI/IBQiKr23ll8IGcIXNt\n",
       "RwoOTsU005nIW5IrtkHNRyN/kxHFmSa7Jgvq3m864wb/Ozg8i7flVqiHoaCyJnayIcCgJOEAAAFW\n",
       "AZ+sdEN/ABg+7nIsU2NbmDaa7i4ANXGnp+bm4llcUJE+xucu1400XtmhwuIvvma6DQVXcZT0wA4/\n",
       "pmTsjST+TPwy1oIfQ7kYqjklKshJcbITuBF8WZtqE88P4q55rx12vNfTNfWQIkEKpcjLU0ETYa9y\n",
       "SDIOoLeQhdSi4C6wLTyGH1jK72VSrOwGoSQ//cnCX+mA0i9ngif1EKQDHL10PWe7NpDwdiRXUxQc\n",
       "Wh4K4u1uZ1cR+AVLkAQaes0JMyCgt39VmQ8tNtbWQvBluv6x1D7wDaNJIskIrv2hvvfGmJtz9nLC\n",
       "xugOpUPqll8FjDCrKYjAfSRzLqGM4J7DSMw8a5YXSgvpXHNe4WUh9BTS8z2E/QYM3vW3e3UswDa+\n",
       "b2JgHfice4EY9RTu2qGK99WSJgoKvpnS8VP0jTieO+6JzwuVOYGOwSIhBUPgyo5AEzwOY9J0aAK3\n",
       "AAABcAGfrmpDfwAYPu5yGSsHVVOfZACH6G7rXjTxeMY9P2RcD2nZunnuzoUx1DgTgnwRRyJ1L+CQ\n",
       "kjWd2PtpQOvlYFk1dVYny+1Vb/DkrgPYnT+HvXWHKqpSqcnLpBgQqksbIcCnw5iwakOU/accHFoP\n",
       "bt69meFQqH+WxJ8rX5RxXXOr8NIzJzWHIhYx/rY36MGtFX/ABNh/0LCkyvoNy1BLyFwHWdH2Tjwn\n",
       "Np7UTpfptnNfYB/PohvS/cyibw9/4dVZSXAe/Hts1sx6Iger5OOiZbi0f0BD8qVOKopixUtX8L03\n",
       "Iob2t0KujKAHTfwMzK8BPaquACzjLcLZsCGLPG5fSmGA6Q4wQ+NM+JiJP0LPG0aKS6ZNUvJUHpmp\n",
       "d996sqFF3PfvnTsF3spGDwx05UPrnpfrtsKwXhAajJU+DaxnkQW1HwJh4TBvYyn1pkYYdwjbObnn\n",
       "dGNWaOMp+czU0Jsa9Cths7fsgLMEBRAvsw+Ga3oXAAAEJ0Gbs0moQWyZTAgj//61KoACpbF+hbp5\n",
       "ACWUli4qNxmxCZaiYHJdZ/xq59gDvoDKzW0jXzoSz0Moeg5S9oSzDSS4vMYmVPs6ucbOEc0vr2bv\n",
       "oGIDhXbSdUhtSb+HUFOKAV9ZI5Ow2GAv38hEiKcqFmk6wnIv5ca/d5GFGMhvIlylFglt5VW2A2GV\n",
       "k3EjrkTXP/EbPpcmxuvS4NyZtPiZtzeeBKTEUOX6qCpp/MopWW293AU1OuK6/2Eaefj6zlhtaO7E\n",
       "xqk0+w18jgEQS0yTBlhY++YwP0MeMdI5hCQfGv88jVTT73OMpOZx5JLbn7wVVjyiYxSgkuXTtwpM\n",
       "9WWq7MIfGwJmstEzls8NUS4RJxBXGsvcmwOW1pdJPgXmUHoDM+TxlHIgMwvAiiMmvxqQBdGp4p16\n",
       "BIizJXG4bO0Uypct3ZVmWrB32qmAfsjT92j/tbyAYcmdAF6smXZcHi0VYFZADxP/vARa0oKzS8B+\n",
       "cxY7p1YQ/ifxaA4G2wPy6JuUoKroWG01HkEzoJz2VCW8/Tl26UlBAoswuL/9yZND38AxsrXbuQV3\n",
       "R9LuPImmhntr+3cFVGWovifSaxpDoa/hLib8KiEWvx6QTRVvgEOXicov1JimoNdVpTIS7D/h5489\n",
       "Qftc3Hmv9AkwQr6kUdmAf71Ueq8dsXfl572WGOjX8eWDScqX0bpV6/zOuI9GbKQPYCC1lLiFwdx9\n",
       "VLYeB6UtEnTZQMck0R3Wu8l46FA+oqhK7DyRIhRS3k6g9RiWojlG1pUMVgckrWGiuU5bOIPo5OWn\n",
       "zq5FhYhSOaQVX4xNKlbdWIJVUEpF/Lfqb/kM37fVTSsir2F5e5KVS39L/ZxTQ6kOglpag8tUoaCC\n",
       "P5VpygYbSRLBQjLOzHyzKrP0pmqCRtgZZ5nocd6lHOdhRC7FTCUAUcmpudOv4aKO93cPpQT7iosC\n",
       "Gj0vdFxYDNA8fjc3PmVaRGOF2cvMjApp8Eurmx71yTT7W4nbR/WPurU9yJOqncoVlxV2IwIe6zN/\n",
       "1xA5ZFV91KkN72VKzqOUx4IF0wbkHdtblNSk7wWtNKjm9RtYQM/f0QUCKS9XNupzHzvHETK1Cq4p\n",
       "gaPiAc8J1J9sDprRWzNqm2f6DQPhKhKWKP8vHlTMXKhpz4F5cAo/h6dHWb4U0msG2PSqDLNJ5uCj\n",
       "IuC2SU172bLNRBM0YdEZos+v9qnGNjcAdyWSI3oHP7rVYV2mcQp+0GAm5BP4ejNEd9VENdFmx8Ul\n",
       "6/st9H9WHiXiJxINX+h8PMQ0OiKGu++gUp0VfA1CNZXV2lN+6yP958Q+FxjQYXrQgXW0uUCGLJ2C\n",
       "HrZV80yLUzgEHZNJu1NOwXLXDGQ1zYPWJxfcJ/Im4t6aSTU1OQn89IB+/fUYQg+0EXpoCetDCEbu\n",
       "wFwpXv4vCxs3cLB+IPgAAAGuQZ/RRRUsO/8AENgA0SkAizATrxIyXWgPcvxgBJv9pJVkbPvLqsjE\n",
       "gleH6oNAcfLyJz5KrIrUKUyQGh2fZ62iU19r4m+o0NFvnnHBqq4JO+7VDkO7zBbnCqBL/0xh0y7e\n",
       "zRWXuYZMFY2EZk1aQIpenAC4vN75xsiYUOj5DttxyOtaita+OZsaOfRlNjnCYZapf2JVoK8OtZ56\n",
       "FFgE3cY1jBHt96/HHgIVSvlNDnkLoOHop8TP6FtXYgr4r1adYVNwGxs0FTtYtpUH8rpI5ObOfhKm\n",
       "TmYKa4VUM99Ikz8Xpee2VS+Tvgu+uhhK/psjenAxyYVZDZ3WNO437jJeoyfZvW/Lzxlcsol72tqf\n",
       "OTOINucYRiFKnh7pGZDZ7h0lBkEPqB33cE5kJFkvYdysxP4bkxFty8oThNQKFv8BmFxLeVT/KctW\n",
       "00eB4dRYvImnd/cvPzmBUnOH7Ug2bl8XYjvP7gwulju1FvHG5FXe91g50vKIy5oMr5a60BLPx1XZ\n",
       "frHrHxwQ+b2KjRkombkw2BLLMcTAC3a54fwhKxNQ1ohR8DkMUs/AKpFIdb7MhKMIWAAAARsBn/B0\n",
       "Q38AGD7ucixUTAr3ulJy0aCFQAh3wSMzvWF3Idanowf0H7ULGdYid3SV5Rg5I83JLdCteftBSvJs\n",
       "8xU8JB5BrUkmf5z5uaSbNuVQlFJ6xTYZXDGrn6465w+p7lQ42RwjopQqyh1G1InvjRDt2lRL3hxW\n",
       "IufM9XkA45XjCgcHnOxm2A1FKQrtM1DC7CsThtJJCVlU9cHkVhKMxnbQfsgfnsB2c6SY5xf1wvJK\n",
       "6rdPIF3O6FEtS4MkL6D/THDMIioIiRkyZbmYDP+s5KntsmHcshWZF9hMrc6WXBN9+y50apwuI7x2\n",
       "S6oZ8ozlI4E2lcrJkU93HuOe04OwgSTR6VqsoSZMmWjsa3hPQAhxhYsQxEA87eFwnAZVAAABNgGf\n",
       "8mpDfwAYPu5yGSvanVmktAAuk/9IZCt3UQ9iaVKa+/T84pjni6mUjzG4TxhPOHdUQ2o2vWyZ1IV2\n",
       "KPtdfUSzvscgzitpRj4Ywmghe5sxRV+Kox+YHKof1aP2kvurt5/VPiDgBMkxfgGNu0Iy5YC3XLhb\n",
       "RyZrFcNWWN6TSzZwcgE34AzYYwl6mR8jvMvOAUC185bSZFkcl8h2Y/Y3Zi8xZIROQ2svT5bMK0uM\n",
       "M/vBSXpX1tPoWF/LhHieZlGKaypR/q0NVf5qyCmxc1wMBpqObORibUWgVSWFx9AjTMsJTlq+ad8D\n",
       "5isIPs6jn+gOOwNOQKibVe2B1PWpxg3fAAW+mo02Oxck26nwuT8q8NCR4UTAuSbieBoiYDry7VKU\n",
       "kpwZPwaqDCLAgDgVmlSNWlw4sYCdbZoAAAOVQZv2SahBbJlMCCP//rUqgAKmJrX8ABLnOZSRhZIR\n",
       "Siae5vZaX6sbnOBtqRa/dHYdPFsJYg9uaTs4IhTKvXF22YABd8hnXbLz6T6Zcc5rdLG4HqkWKy5K\n",
       "OU4u6pdW6rHcbMJyw+cZ5A4Hl+H3uKZ4ElQONzfAYi+7q7fYHlzi5wmMxfWvEXmEDjfA9SUyA8MC\n",
       "BMjKJ/j5w/128YcjrcOM2U4QKtrryihEdcYAdPRWxcGLcEz0gtta+5gw1MSq3zcrYUPaqJD9odgn\n",
       "lL89cCDfq3thyRYNfFVXaexKvfS558gqUfmz2slKD57BPch6NSn9fyaC8HneSDqTQXL9eQXV8U6G\n",
       "OLBEw6nCc74Ucn9NfagqEPqnnuY2UuDRGLKS2GJU1BrAyMzjJMFMyNYI6t3rZkg6qESvNkGqL2LV\n",
       "POuYdZyy8G+UCbizIrdGJNgh0WMQhNu2YX2/Zt0jb3iFqcra/ZzYQaA9zOaCEJBkRO3rIKQBRJUr\n",
       "tgxjvvGcUGemCaKaO86piDCoq96l7RoXGjDkDfJ1/6hsFbeDEcj5il1JPLKn0Mb7SNaV+VuqYIch\n",
       "SnSqsOVhluJxqJ4lGhVOyJI0PNsumWIztpUJLBkiE3L6F1Blaba5Aylqd08ZY7MoQ0bK6VoMWW81\n",
       "0nuyDdJOg/WoTsM9c2o7aoyW6le5DmBU7y/Brd9TEYI0oT9g9o2W0QtIFbE1AZLvgaCdXqOlxt+Y\n",
       "01AWiXHsE1ax2VPpIo+uIuuY4GC2seFxQIeMpIQyEUMPo8XfOVA6R6fnCRNLdM2XPh8klz9xplVO\n",
       "ohwtKkQATfD60dEKSJuFMhdwExp+xouF+sM03L7D8k6nlEz873kU452/+TRHJJcbtCslAGWSI9j4\n",
       "UjKWJJIxhW4YLZxXkTk9aWjBEEvC9izEW6C3I/3DsH86a9NDG/B/schR/Wq1oBhc9YOJskv0agaB\n",
       "nu82BwJO+nbRJ48bA3laoo3d87l/+wAr/wAZuarJMnmGIjzzuW8qN4RhX7TBcTh/4DF+kFfTNDJ8\n",
       "nuL3aI+V+47UWtIowQGI0ypY5lNx0UtJXQm7kBeWor8S7TS2PRIgLgwV4CwXiI+BJIBUIdM/8MDN\n",
       "E+c8gnu2BYio9rpZSlMtPVolBc9UQ7JP4YMFtaV78zxKTtzALX/OPGm4wyjInJaeVgwUqobPzQHy\n",
       "fWfxGmEVArdWtt8r2aD1UXBxcaM6CnTiMcswbdbSW4AAAAFZQZ4URRUsN/8AGD7uciUqMxrAC5xX\n",
       "znLPxXmYnwIAPnKKwCEi4hTEI14AAbx1DOi6zlpI5b/TzG77h2Y2297Ljhv8Vvz+Zg6MhTypuU7Q\n",
       "gamFJVELQCp7xnyfaUH02QkoMpaZT9K6B8i/IUg/XYGXE72yVJXC/J8YCQSwo8X3p18aC6t8w6FE\n",
       "BinZX7KhahWTxBLaUsGqfsroyS3+NqY4PlWhYXv3CBl4WwXQWYACmAsliUpUH6/5QvmEEYGLAFxy\n",
       "Szpn/sxfS8bGWHcHEnS6WENgGoVcOdEdXJiY6hkTZJbs1v7rq5399Qtb1aP+VIY6E2PSTiV5impc\n",
       "sqLmZDxyuSTW0BWZhlNEPZDLssc1xdOId2N1Aq02SYC9aQh3xWvam1s+fZg437tWkdO/F0nYXDXt\n",
       "gkeSHp86vWFGziFL99501mvOlsDoaUYTov7B4gSTd2QB3WtBwC4hAAAA5QGeNWpDfwAYPu5yGRtS\n",
       "verd0LwAfr0Ew6LqBqAXR2DptTfuUImZBlkh/VV/WIr/2jvFbMfsT5wUi4B4ZXOL9G6wCVskEppj\n",
       "4jZn/au+vVbzowVvNz4tfkkJhhv251vg4xaOdb6pVgIqBTZFZzMGGE5fb7tpREi14pw10lgEVkk6\n",
       "OH+1y2xWShCP9cDIh19QC2AAeknzyIZ33j3FrcnZF0cNkxvOm/E/01E8lm2m6JyyJCkblPWedZNw\n",
       "7yyRRHVqYpelJfbwAAB/k13iEVR9IVUo0fv0xWTDBUIQyMzV5wGmv7VAVMAAAALXQZo6SahBbJlM\n",
       "CCP//rUqgAKlpfxFkFhogBLKSxcWy78oqQonCF4oEvI9iVClWTfyeCiphLQdlHotTobkDt16JKmL\n",
       "pINQF076sVP4tHCIXi90AH1+JyFsuQRa53sjpySM/wOqy55piAPlPiRGJbrM5gI7FvNfEV8N0Cc3\n",
       "0US7o62HqpkZB8ufcpdOpojCFGTzYHcCXVODnW+NB+8cgjnG60S1hZ6b2vfGb1HXkLZhBEJxnTXu\n",
       "m5EYKVr80v7Tw3luKNQEiuicgNkN9u/Gj0mTsIOM7ql8XdwcOrMYl80WdvVf9du/+mS9F2Yq6w5z\n",
       "bx2N9jTVA5uWW5O6zdUzogsN2jR1uHrnk/op+KARRwr5uwZo+8i0yysBBWuB5L9b0ht0hJizcmZl\n",
       "A7dyqRaKWwAYfVRsig5IEKoqm8OWQCOQmA11/utOkluHSXSq3ITd8EmErkrfFz4MZ2YmjK3R1SAg\n",
       "ANq/AzV7y2hfCwoxFYRpQxO9t31Y5zcRwCTlHIt8A8SLAJ8KR9LqSMhoX3Gv7QGfDKo3MYRDR472\n",
       "fX/HmD2kZi69Lo8KLv2NsP1tJvSgS/RlgVrACH3TmCBLbfV3NMmuByUtDFL5tnHJqJNbXXryfya0\n",
       "dGr6R+84LOIxImVjr5CdUaeag39d6dAoiVHTFL11E/trQ6LXB7+cufFAlSWKy5mNbq193RKanfC7\n",
       "LXTNejmhhL2NVzGhrk/41wFXTL0IOkIBtYGSTfMaMCWbM36xXWchDJKqZaZG9Dyd1md8PLmLB2bZ\n",
       "xT0tk7cO8CfHSXBckFzyqpGpY3qVJ6bkz+jY3ZQK3I3IMN553bBMBeoBSjGvNqG4hp9aEgsOm0EV\n",
       "STYSpD+gzwTBPtgVAtCVlGa8dmonqdnB4imQQ0Bca9mANfP7LXuj9t+bkWKn2xG/1aHl1/IRUSV/\n",
       "y7IlaSvfAOejQKzpZHabMOI97A9CNqP8SCRjPPLKFMlPYQAAAPZBnlhFFSw7/wAQ2ADRKQB0s7Lx\n",
       "CAAXQslaWdyyCo8ViORVxpt9QHhFxUUej+QuBYYIYDf4vDQ3F4unGGmJlO2OUstudiJuyHCvjA3y\n",
       "+oC9sRDtT9HJ+rmTQo0Scmfh7I2qC45I6AV77zISejj9VfPiibHP36Deat5abC3uFZWhbHVgZ9MK\n",
       "DOcYly/uqoRisJYmrfDTdgMIGhu7qkJ6wDQa1g7G+3eKuccrUnHyGzN33GecyrkZjvi3lT5i7hJH\n",
       "581Ws29bJgPCAhkKYi/iUInN5RaW/nBXpd7EwHNOXX68aa11PCNwfAwVBc7l8jJ720KQYhQ0jsEA\n",
       "AACnAZ53dEN/ABg+7m69rBWggM0ACdXPritFwGFp1+iE7hP9fxfim5tX1KoQRVVnHb7CEOfg9VXv\n",
       "5tqNpF8d3gJgWeRCFjZ+JrgshZb0ePET8K6NdOo+UKChyXQB/OOlqM9nvjitN3UZmFLixt7kxDRp\n",
       "kxbhWG869S8gzpFk1bxlk1+dtNyvTXqkGpdVUGmSrWSvK9K/3xODf5+Dnrh4yKxQy+nwdBQAhYAA\n",
       "AABSAZ55akN/ABg+7m6ntfr64QehPZ8MW7rqIOUObCS8+k88uKTQAbN2o8mcfZ9qMGOjnS5UGhKd\n",
       "EkX+DJRUt82X6jzDF4ZxHwN8FzUNA5CU46gooQAAAYdBmn5JqEFsmUwII//+tSqAAqduEJmAAljV\n",
       "Ke99GZFJddYjxG5zFnCmvUP9rOryv2v79pBsoQSoYxOzKPTTA5W6KnPGiPC+NKMxL66hC4flmqjO\n",
       "cwuP3zdVeDhYjMWDv+M8xv8JiAKT99bHyVxic+lDpq/kHvmBRhEFXNKcta5kcfiPPeyXkIXntKma\n",
       "F1d6yjMJSvI583kKED7dhkoitgG2fwmoVc0UDpTiJV/+1oxnmbJU0hLGt+XB5v6wR7W+D64SWhQo\n",
       "koHb6uWwssky5SQfGQSL+f2e9qvTMjY0dd7wp2exXkr/MjeXg15b3t1OB3lObtSjWG4XiJ5FD3bL\n",
       "HvhT6tdyidwdO2JiKHnFdp90J5Jo+9k0SCXZMjlzKmfI6vHjorOjct09ZyDewpgompjbyr6H60o/\n",
       "qpD+/Z6QE6cTQFj+YRXy4Ov9G9kuyUmcn9Mt0GeN9stM9FXShnwa65MJSMDfOLzOAXNFCnAquoxU\n",
       "jtzpD82okuzLGhK2h7Me4GTCrKBMZodIAAAAe0GenEUVLDv/ABDYANEvAntOhGSAAXO1sewK9qlT\n",
       "F+cDjMKsvPZ+Cy3vTjX5h3FTQNr5DNW7qUhSrgRXX3Oo4MhqvexhdHBcx9jRX/FpoED0P1Fkhujv\n",
       "l+9pBsqr9iwngGmdE/vk3OQYzzl3la0aATkHJQMsJ8X8DsGowQAAAC4Bnrt0Q38AGD7ubr2lJU8O\n",
       "MzCPuszVrsSOQYKOeZ5JCnZa5I9Afg5nQEKHfEXBAAAALAGevWpDfwAYPu5up5Wgf3pK5o2l1poN\n",
       "yxN9NYt0mSVngJ+wcdIIChtmoHzAAAAA4kGaokmoQWyZTAgh//6qVQAFSw+iMmyTAC3T8OoD3NMv\n",
       "K72I0NDtHlN4JtS3e1WCzDldw+VPmMdlqhCQtsTNR9BUEn93z0nch+U/+aNVxK8xrseVQJo6N7kq\n",
       "lfk/i7xBmnChiJn8hkNxKlfmkqwAiGzUDVXzWWcG6odFX1bSHBvjoUgawNWYQWaqF/EIJKrsxrFx\n",
       "LG/9TyKQpWWkUBs5r0e0pRnf9lx9TvdgIx3wiAuHa0a/q8v5raZRyS8DvgMX+kfsvaxFB8pMHdB0\n",
       "a/WlCTTJsOeGeeo2Wn/mAS9iBAAARcAAAABFQZ7ARRUsO/8AENgA0S8CSWZ09eOgBNUxWArHA0BA\n",
       "9VDf+fRzORoFYPTavJH24YP4EbFmv80eio4VhgrZiufUI0aQ4BixAAAAKAGe/3RDfwAYPu5O39KQ\n",
       "D1TcJ80QeE2IVY8gRhlqBwmdhTBKLU8gYMAAAAApAZ7hakN/ABg+7l0t1Zr7Dw9kfYz76Cxak1Hc\n",
       "kSXoC5DjNxxIKRfgNaEAAACmQZrmSahBbJlMCHf//qmWABS2qXbbACuhs0ao3ZhDmdv6bRUgGvCR\n",
       "a4DdrlLgX44LTDefSZ777HGCT5nKLOJem31MCi31gkQqC4K35IDgzWHSBDo+SCGhsHvnY7pG1ihw\n",
       "LJgZayVuKKDleE7LAFfx3NxLmJVuyP5+RQz5/iYY5l6f+EVdMiTV4cifzm4XBSekpXdNgpD8vZbg\n",
       "03yewkb326u79AACFgAAAC5BnwRFFSw7/wAQ2ADRLwHkKz49mwy66GYwBZYoDS3XQero4Hui0AF9\n",
       "1g5OoB/hAAAAIQGfI3RDfwAYfrAtWTUo9ugZEqdA/t+cGQW8QIVGxqYC2wAAACQBnyVqQ38AGILs\n",
       "7Fu0vuEsvyHa7+rAYmg5ci4lkOP/YBIYDmkAAAAYQZsnSahBbJlMCG///qeEAAU+1erAABvRAAAE\n",
       "v21vb3YAAABsbXZoZAAAAAAAAAAAAAAAAAAAA+gAAA+gAAEAAAEAAAAAAAAAAAAAAAABAAAAAAAA\n",
       "AAAAAAAAAAAAAQAAAAAAAAAAAAAAAAAAQAAAAAAAAAAAAAAAAAAAAAAAAAAAAAAAAAAAAAAAAAIA\n",
       "AAPpdHJhawAAAFx0a2hkAAAAAwAAAAAAAAAAAAAAAQAAAAAAAA+gAAAAAAAAAAAAAAAAAAAAAAAB\n",
       "AAAAAAAAAAAAAAAAAAAAAQAAAAAAAAAAAAAAAAAAQAAAAAH0AAABkAAAAAAAJGVkdHMAAAAcZWxz\n",
       "dAAAAAAAAAABAAAPoAAACAAAAQAAAAADYW1kaWEAAAAgbWRoZAAAAAAAAAAAAAAAAAAAKAAAAKAA\n",
       "VcQAAAAAAC1oZGxyAAAAAAAAAAB2aWRlAAAAAAAAAAAAAAAAVmlkZW9IYW5kbGVyAAAAAwxtaW5m\n",
       "AAAAFHZtaGQAAAABAAAAAAAAAAAAAAAkZGluZgAAABxkcmVmAAAAAAAAAAEAAAAMdXJsIAAAAAEA\n",
       "AALMc3RibAAAALRzdHNkAAAAAAAAAAEAAACkYXZjMQAAAAAAAAABAAAAAAAAAAAAAAAAAAAAAAH0\n",
       "AZAASAAAAEgAAAAAAAAAAQAAAAAAAAAAAAAAAAAAAAAAAAAAAAAAAAAAAAAAAAAAABj//wAAADJh\n",
       "dmNDAWQAFv/hABlnZAAWrNlAgDPn4QAAAwABAAADABQPFi2WAQAGaOvjyyLAAAAAHHV1aWRraEDy\n",
       "XyRPxbo5pRvPAyPzAAAAAAAAABhzdHRzAAAAAAAAAAEAAAAoAAAEAAAAABRzdHNzAAAAAAAAAAEA\n",
       "AAABAAABAGN0dHMAAAAAAAAAHgAAAAkAAAgAAAAAAQAAEAAAAAACAAAEAAAAAAEAABQAAAAAAQAA\n",
       "CAAAAAABAAAAAAAAAAEAAAQAAAAAAQAAFAAAAAABAAAIAAAAAAEAAAAAAAAAAQAABAAAAAABAAAQ\n",
       "AAAAAAIAAAQAAAAAAQAAFAAAAAABAAAIAAAAAAEAAAAAAAAAAQAABAAAAAABAAAUAAAAAAEAAAgA\n",
       "AAAAAQAAAAAAAAABAAAEAAAAAAEAABQAAAAAAQAACAAAAAABAAAAAAAAAAEAAAQAAAAAAQAAFAAA\n",
       "AAABAAAIAAAAAAEAAAAAAAAAAQAABAAAAAABAAAIAAAAABxzdHNjAAAAAAAAAAEAAAABAAAAKAAA\n",
       "AAEAAAC0c3RzegAAAAAAAAAAAAAAKAAAFYgAAAJDAAACpAAAA4cAAAKhAAABiwAAAa8AAAGvAAAB\n",
       "vQAAA3UAAAEFAAABRQAABG0AAAJIAAABWgAAAXQAAAQrAAABsgAAAR8AAAE6AAADmQAAAV0AAADp\n",
       "AAAC2wAAAPoAAACrAAAAVgAAAYsAAAB/AAAAMgAAADAAAADmAAAASQAAACwAAAAtAAAAqgAAADIA\n",
       "AAAlAAAAKAAAABwAAAAUc3RjbwAAAAAAAAABAAAALAAAAGJ1ZHRhAAAAWm1ldGEAAAAAAAAAIWhk\n",
       "bHIAAAAAAAAAAG1kaXJhcHBsAAAAAAAAAAAAAAAALWlsc3QAAAAlqXRvbwAAAB1kYXRhAAAAAQAA\n",
       "AABMYXZmNTcuNTYuMTAx\n",
       "\">\n",
       "  Your browser does not support the video tag.\n",
       "</video>"
      ],
      "text/plain": [
       "<matplotlib.animation.FuncAnimation at 0x1bf9405a860>"
      ]
     },
     "execution_count": 21,
     "metadata": {},
     "output_type": "execute_result"
    }
   ],
   "source": [
    "fig = plt.figure(dpi=100, figsize=(5, 4))\n",
    "plt.scatter(x,y)\n",
    "line, = plt.plot(x,lin(a_guess,b_guess,x))\n",
    "plt.close()\n",
    "\n",
    "def animate(i):\n",
    "    line.set_ydata(lin(a_guess,b_guess,x))\n",
    "    for i in range(10): upd()\n",
    "    return line,\n",
    "\n",
    "ani = animation.FuncAnimation(fig, animate, np.arange(0, 40), interval=100)\n",
    "ani"
   ]
  },
  {
   "cell_type": "code",
   "execution_count": null,
   "metadata": {
    "collapsed": true
   },
   "outputs": [],
   "source": []
  }
 ],
 "metadata": {
  "kernelspec": {
   "display_name": "Python 3",
   "language": "python",
   "name": "python3"
  },
  "language_info": {
   "codemirror_mode": {
    "name": "ipython",
    "version": 3
   },
   "file_extension": ".py",
   "mimetype": "text/x-python",
   "name": "python",
   "nbconvert_exporter": "python",
   "pygments_lexer": "ipython3",
   "version": "3.5.3"
  },
  "nav_menu": {},
  "toc": {
   "navigate_menu": true,
   "number_sections": true,
   "sideBar": true,
   "threshold": 6,
   "toc_cell": true,
   "toc_section_display": "block",
   "toc_window_display": false
  },
  "widgets": {
   "state": {},
   "version": "1.1.2"
  }
 },
 "nbformat": 4,
 "nbformat_minor": 1
}
