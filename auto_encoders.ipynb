{
 "cells": [
  {
   "cell_type": "markdown",
   "metadata": {},
   "source": [
    "### Motivation for Autoencoders  ---- Why Autoencoders??\n",
    "\n",
    "1. Supervised learning is good but in real world the data is not always labeled.. \n",
    "\n",
    "2. Can machines do Data compression itself -- compression and decompression functions are learned from the data itself... \n",
    "\n",
    "3. If Neural networks can learn features why can't it learn the data representations itself ... \n",
    "\n",
    "<img src=\"images/autoencoder_1.png\" width=\"50%\">\n",
    "\n"
   ]
  },
  {
   "cell_type": "markdown",
   "metadata": {},
   "source": [
    "#### What are Autoencoders\n",
    "\n",
    "Autoencoder consits of \n",
    "\n",
    "1. An Encoder that compresses the data automatically, without any human intervention.\n",
    "2. Decoder that constructs the original data back from the representations. \n",
    "\n",
    "It uses Neural network for both encoding and decoding purposes.. \n",
    "\n",
    "**Theoretically** It's a great Architecture and as novel as solving problem like world hunger problem BUT there are few things to note before we look into the dynamics of the network \n",
    "\n",
    "1. **Autoencoders are data-specific**, which means that they will only be able to compress data similar to what they have been trained on.\n",
    "\n",
    "What does this mean ??\n",
    " An autoencoder **trained** on **pictures of faces** would do a rather **poor job** of **compressing pictures of trees**, because the features it would learn would be face-specific\n",
    " \n",
    "2. Autoencoders are **lossy**\n",
    "\n",
    "What does this mean ??\n",
    "The decompressed outputs will be degraded compared to the original inputs -- some data will be lost during compression...\n",
    "\n",
    "3. Autoencoders are learned automatically from data examples, which is a **useful property**\n",
    "\n",
    "What does this mean ??\n",
    "It is easy to train **specialized instances** of the algorithm that will perform well on a **specific type of input**. It **doesn't require any new engineering**, **_just appropriate training data_**\n",
    "\n",
    "### Net- Net\n",
    "\n",
    "Are they good at data compression?\n",
    "\n",
    "Usually, not really :((( ....\n",
    "\n",
    "1. In picture compression for instance, it is pretty difficult to train an autoencoder that does a better job than a basic algorithm like JPEG. \n",
    "  \n",
    "  \n",
    "The fact that autoencoders are data-specific makes them **generally impractical** for real-world data compression problems: you can only use them on **data that is similar to what they were trained on**, and **making them more general thus requires lots of training data**  \n",
    "\n"
   ]
  },
  {
   "cell_type": "markdown",
   "metadata": {},
   "source": [
    "So what's the big deal with autoencoders?\n",
    "\n",
    "1. Researchers are really putting their efforts on **Unsupervised learning** which is still and unexplored NN frontier and we might have a real use-case in 2-3 years. \n",
    "\n",
    "2. Noice reduction -- "
   ]
  },
  {
   "cell_type": "markdown",
   "metadata": {},
   "source": [
    "### Let's build the simplest possible autoencoder"
   ]
  },
  {
   "cell_type": "code",
   "execution_count": 55,
   "metadata": {},
   "outputs": [],
   "source": [
    "from keras.layers import Input, Dense\n",
    "from keras.models import Model\n",
    "\n",
    "# this is the size of our encoded representations : this is hyper parameter change it to find the best\n",
    "encoding_dim = 32  \n",
    "\n",
    "# this is our input placeholder\n",
    "input_img = Input(shape=(784,))\n",
    "\n",
    "# \"encoded\" is the encoded representation of the input\n",
    "encoded = Dense(encoding_dim, activation='relu')(input_img)\n",
    "\n",
    "# this model maps an input to its encoded representation\n",
    "encoder = Model(input_img, encoded)"
   ]
  },
  {
   "cell_type": "code",
   "execution_count": 46,
   "metadata": {
    "collapsed": true
   },
   "outputs": [],
   "source": [
    "# \"decoded\" is the lossy reconstruction of the input\n",
    "decoded = Dense(784, activation='sigmoid')(encoded)\n",
    "\n",
    "# this model maps an input to its reconstruction\n",
    "autoencoder = Model(input_img, decoded)"
   ]
  },
  {
   "cell_type": "code",
   "execution_count": 47,
   "metadata": {
    "collapsed": true
   },
   "outputs": [],
   "source": [
    "# create a placeholder for an encoded (32-dimensional) input\n",
    "encoded_input = Input(shape=(encoding_dim,))\n",
    "# retrieve the last layer of the autoencoder model\n",
    "decoder_layer = autoencoder.layers[-1]\n",
    "# create the decoder model\n",
    "decoder = Model(encoded_input, decoder_layer(encoded_input))"
   ]
  },
  {
   "cell_type": "code",
   "execution_count": 48,
   "metadata": {
    "collapsed": true
   },
   "outputs": [],
   "source": [
    "autoencoder.compile(optimizer='adadelta', loss='binary_crossentropy')"
   ]
  },
  {
   "cell_type": "code",
   "execution_count": 49,
   "metadata": {},
   "outputs": [
    {
     "name": "stdout",
     "output_type": "stream",
     "text": [
      "(60000, 784)\n",
      "(10000, 784)\n"
     ]
    }
   ],
   "source": [
    "from keras.datasets import mnist\n",
    "import numpy as np\n",
    "(x_train, _), (x_test, _) = mnist.load_data()\n",
    "x_train = x_train.astype('float32') / 255.\n",
    "x_test = x_test.astype('float32') / 255.\n",
    "x_train = x_train.reshape((len(x_train), np.prod(x_train.shape[1:])))\n",
    "x_test = x_test.reshape((len(x_test), np.prod(x_test.shape[1:])))\n",
    "print (x_train.shape)\n",
    "print (x_test.shape)"
   ]
  },
  {
   "cell_type": "code",
   "execution_count": 56,
   "metadata": {},
   "outputs": [
    {
     "name": "stdout",
     "output_type": "stream",
     "text": [
      "Train on 60000 samples, validate on 10000 samples\n",
      "Epoch 1/50\n",
      "60000/60000 [==============================] - 6s - loss: 0.1030 - val_loss: 0.1012\n",
      "Epoch 2/50\n",
      "60000/60000 [==============================] - 5s - loss: 0.1026 - val_loss: 0.1008\n",
      "Epoch 3/50\n",
      "60000/60000 [==============================] - 5s - loss: 0.1022 - val_loss: 0.1005\n",
      "Epoch 4/50\n",
      "60000/60000 [==============================] - 5s - loss: 0.1019 - val_loss: 0.1002\n",
      "Epoch 5/50\n",
      "60000/60000 [==============================] - 6s - loss: 0.1016 - val_loss: 0.0999\n",
      "Epoch 6/50\n",
      "60000/60000 [==============================] - 6s - loss: 0.1013 - val_loss: 0.0996\n",
      "Epoch 7/50\n",
      "60000/60000 [==============================] - 8s - loss: 0.1010 - val_loss: 0.0993ss: 0\n",
      "Epoch 8/50\n",
      "60000/60000 [==============================] - 6s - loss: 0.1007 - val_loss: 0.0991\n",
      "Epoch 9/50\n",
      "60000/60000 [==============================] - 6s - loss: 0.1005 - val_loss: 0.0988\n",
      "Epoch 10/50\n",
      "60000/60000 [==============================] - 5s - loss: 0.1002 - val_loss: 0.0986\n",
      "Epoch 11/50\n",
      "60000/60000 [==============================] - 5s - loss: 0.1000 - val_loss: 0.0984\n",
      "Epoch 12/50\n",
      "60000/60000 [==============================] - 5s - loss: 0.0998 - val_loss: 0.0981\n",
      "Epoch 13/50\n",
      "60000/60000 [==============================] - 5s - loss: 0.0996 - val_loss: 0.0979\n",
      "Epoch 14/50\n",
      "60000/60000 [==============================] - 6s - loss: 0.0994 - val_loss: 0.0977\n",
      "Epoch 15/50\n",
      "60000/60000 [==============================] - 5s - loss: 0.0992 - val_loss: 0.0976\n",
      "Epoch 16/50\n",
      "60000/60000 [==============================] - 5s - loss: 0.0990 - val_loss: 0.0974\n",
      "Epoch 17/50\n",
      "60000/60000 [==============================] - 5s - loss: 0.0988 - val_loss: 0.0972\n",
      "Epoch 18/50\n",
      "60000/60000 [==============================] - 5s - loss: 0.0987 - val_loss: 0.0971\n",
      "Epoch 19/50\n",
      "60000/60000 [==============================] - 5s - loss: 0.0985 - val_loss: 0.0969\n",
      "Epoch 20/50\n",
      "60000/60000 [==============================] - 5s - loss: 0.0984 - val_loss: 0.0968\n",
      "Epoch 21/50\n",
      "60000/60000 [==============================] - 5s - loss: 0.0982 - val_loss: 0.0966\n",
      "Epoch 22/50\n",
      "60000/60000 [==============================] - 8s - loss: 0.0981 - val_loss: 0.0965\n",
      "Epoch 23/50\n",
      "60000/60000 [==============================] - 6s - loss: 0.0980 - val_loss: 0.0964\n",
      "Epoch 24/50\n",
      "60000/60000 [==============================] - 5s - loss: 0.0978 - val_loss: 0.0963\n",
      "Epoch 25/50\n",
      "60000/60000 [==============================] - 5s - loss: 0.0977 - val_loss: 0.0962ss:\n",
      "Epoch 26/50\n",
      "60000/60000 [==============================] - 6s - loss: 0.0976 - val_loss: 0.0961\n",
      "Epoch 27/50\n",
      "60000/60000 [==============================] - 5s - loss: 0.0975 - val_loss: 0.0959\n",
      "Epoch 28/50\n",
      "60000/60000 [==============================] - 5s - loss: 0.0974 - val_loss: 0.0958\n",
      "Epoch 29/50\n",
      "60000/60000 [==============================] - 5s - loss: 0.0973 - val_loss: 0.0958\n",
      "Epoch 30/50\n",
      "60000/60000 [==============================] - 5s - loss: 0.0972 - val_loss: 0.0957\n",
      "Epoch 31/50\n",
      "60000/60000 [==============================] - 5s - loss: 0.0971 - val_loss: 0.0956\n",
      "Epoch 32/50\n",
      "60000/60000 [==============================] - 5s - loss: 0.0970 - val_loss: 0.0955\n",
      "Epoch 33/50\n",
      "60000/60000 [==============================] - 5s - loss: 0.0969 - val_loss: 0.0954\n",
      "Epoch 34/50\n",
      "60000/60000 [==============================] - 5s - loss: 0.0969 - val_loss: 0.0953\n",
      "Epoch 35/50\n",
      "60000/60000 [==============================] - 5s - loss: 0.0968 - val_loss: 0.0953\n",
      "Epoch 36/50\n",
      "60000/60000 [==============================] - 5s - loss: 0.0967 - val_loss: 0.0952\n",
      "Epoch 37/50\n",
      "60000/60000 [==============================] - 5s - loss: 0.0967 - val_loss: 0.0951\n",
      "Epoch 38/50\n",
      "60000/60000 [==============================] - 5s - loss: 0.0966 - val_loss: 0.0950\n",
      "Epoch 39/50\n",
      "60000/60000 [==============================] - 5s - loss: 0.0965 - val_loss: 0.0950\n",
      "Epoch 40/50\n",
      "60000/60000 [==============================] - 5s - loss: 0.0965 - val_loss: 0.0949\n",
      "Epoch 41/50\n",
      "60000/60000 [==============================] - 5s - loss: 0.0964 - val_loss: 0.0949\n",
      "Epoch 42/50\n",
      "60000/60000 [==============================] - 5s - loss: 0.0963 - val_loss: 0.0948\n",
      "Epoch 43/50\n",
      "60000/60000 [==============================] - 5s - loss: 0.0963 - val_loss: 0.0948\n",
      "Epoch 44/50\n",
      "60000/60000 [==============================] - 5s - loss: 0.0962 - val_loss: 0.0947\n",
      "Epoch 45/50\n",
      "60000/60000 [==============================] - 5s - loss: 0.0962 - val_loss: 0.0947\n",
      "Epoch 46/50\n",
      "60000/60000 [==============================] - 5s - loss: 0.0961 - val_loss: 0.0946\n",
      "Epoch 47/50\n",
      "60000/60000 [==============================] - 5s - loss: 0.0961 - val_loss: 0.0946\n",
      "Epoch 48/50\n",
      "60000/60000 [==============================] - 5s - loss: 0.0960 - val_loss: 0.0945\n",
      "Epoch 49/50\n",
      "60000/60000 [==============================] - 5s - loss: 0.0960 - val_loss: 0.0945\n",
      "Epoch 50/50\n",
      "60000/60000 [==============================] - 5s - loss: 0.0959 - val_loss: 0.0944\n"
     ]
    },
    {
     "data": {
      "text/plain": [
       "<keras.callbacks.History at 0x1f528857c50>"
      ]
     },
     "execution_count": 56,
     "metadata": {},
     "output_type": "execute_result"
    }
   ],
   "source": [
    "autoencoder.fit(x_train, x_train,\n",
    "                epochs=50,\n",
    "                batch_size=256,\n",
    "                shuffle=True,\n",
    "                validation_data=(x_test, x_test))"
   ]
  },
  {
   "cell_type": "code",
   "execution_count": 54,
   "metadata": {},
   "outputs": [
    {
     "data": {
      "image/png": "[encoded data removed]",
      "text/plain": [
       "<matplotlib.figure.Figure at 0x1f52d213588>"
      ]
     },
     "metadata": {},
     "output_type": "display_data"
    }
   ],
   "source": [
    "# encode and decode some digits\n",
    "# note that we take them from the *test* set\n",
    "\n",
    "#encoded_imgs = encoder.predict(x_test)\n",
    "#decoded_imgs = decoder.predict(encoded_imgs)\n",
    "\n",
    "decoded_image = autoencoder.predict(x_test)\n",
    "plot_images(decoded_imgs, x_test)"
   ]
  },
  {
   "cell_type": "code",
   "execution_count": 52,
   "metadata": {},
   "outputs": [],
   "source": [
    "import matplotlib.pyplot as plt\n",
    "\n",
    "#def plot_images(decoded_image):\n",
    "def plot_images(decoded_image, orig_test):\n",
    "    \n",
    "    # Plot some of the images\n",
    "    n = 10  # how many digits we will display\n",
    "    plt.figure(figsize=(20, 4))\n",
    "    for i in range(n):\n",
    "        # display original\n",
    "        ax = plt.subplot(2, n, i + 1)\n",
    "        plt.imshow(x_test[i].reshape(28, 28))\n",
    "        plt.gray()\n",
    "        ax.get_xaxis().set_visible(False)\n",
    "        ax.get_yaxis().set_visible(False)\n",
    "        # display reconstruction\n",
    "        ax = plt.subplot(2, n, i + 1 + n)\n",
    "        plt.imshow(decoded_imgs[i].reshape(28, 28))\n",
    "        plt.gray()\n",
    "        ax.get_xaxis().set_visible(False)\n",
    "        ax.get_yaxis().set_visible(False)\n",
    "    plt.show()"
   ]
  },
  {
   "cell_type": "code",
   "execution_count": 53,
   "metadata": {},
   "outputs": [
    {
     "data": {
      "image/png": "[encoded data removed]",
      "text/plain": [
       "<matplotlib.figure.Figure at 0x1f52aa09240>"
      ]
     },
     "metadata": {},
     "output_type": "display_data"
    }
   ],
   "source": [
    "#plot_images(decoded_imgs)\n",
    "plot_images(decoded_imgs, x_test)"
   ]
  },
  {
   "cell_type": "markdown",
   "metadata": {},
   "source": [
    "#### Deep Autoencoders\n",
    "We do not have to limit ourselves to a single layer as encoder or decoder, we could instead use a stack of layers"
   ]
  },
  {
   "cell_type": "code",
   "execution_count": 23,
   "metadata": {
    "collapsed": true
   },
   "outputs": [],
   "source": [
    "input_img = Input(shape=(784,))\n",
    "encoded = Dense(128, activation='relu')(input_img)\n",
    "encoded = Dense(64, activation='relu')(encoded)\n",
    "encoded = Dense(32, activation='relu')(encoded)\n",
    "\n",
    "decoded = Dense(64, activation='relu')(encoded)\n",
    "decoded = Dense(128, activation='relu')(decoded)\n",
    "decoded = Dense(784, activation='sigmoid')(decoded)"
   ]
  },
  {
   "cell_type": "code",
   "execution_count": 24,
   "metadata": {},
   "outputs": [
    {
     "name": "stdout",
     "output_type": "stream",
     "text": [
      "Train on 60000 samples, validate on 10000 samples\n",
      "Epoch 1/100\n",
      "60000/60000 [==============================] - 5s - loss: 0.3509 - val_loss: 0.2638\n",
      "Epoch 2/100\n",
      "60000/60000 [==============================] - 4s - loss: 0.2570 - val_loss: 0.2485\n",
      "Epoch 3/100\n",
      "60000/60000 [==============================] - 4s - loss: 0.2392 - val_loss: 0.2285\n",
      "Epoch 4/100\n",
      "60000/60000 [==============================] - 4s - loss: 0.2226 - val_loss: 0.2136\n",
      "Epoch 5/100\n",
      "60000/60000 [==============================] - 4s - loss: 0.2086 - val_loss: 0.2005\n",
      "Epoch 6/100\n",
      "60000/60000 [==============================] - 4s - loss: 0.1960 - val_loss: 0.1897\n",
      "Epoch 7/100\n",
      "60000/60000 [==============================] - 4s - loss: 0.1874 - val_loss: 0.1834\n",
      "Epoch 8/100\n",
      "60000/60000 [==============================] - 4s - loss: 0.1807 - val_loss: 0.1759\n",
      "Epoch 9/100\n",
      "60000/60000 [==============================] - 4s - loss: 0.1751 - val_loss: 0.1724\n",
      "Epoch 10/100\n",
      "60000/60000 [==============================] - 4s - loss: 0.1704 - val_loss: 0.1671\n",
      "Epoch 11/100\n",
      "60000/60000 [==============================] - 4s - loss: 0.1662 - val_loss: 0.1625\n",
      "Epoch 12/100\n",
      "60000/60000 [==============================] - 4s - loss: 0.1617 - val_loss: 0.1590\n",
      "Epoch 13/100\n",
      "60000/60000 [==============================] - 4s - loss: 0.1578 - val_loss: 0.1550\n",
      "Epoch 14/100\n",
      "60000/60000 [==============================] - 4s - loss: 0.1535 - val_loss: 0.1528\n",
      "Epoch 15/100\n",
      "60000/60000 [==============================] - 4s - loss: 0.1500 - val_loss: 0.1463\n",
      "Epoch 16/100\n",
      "60000/60000 [==============================] - 4s - loss: 0.1471 - val_loss: 0.1454\n",
      "Epoch 17/100\n",
      "60000/60000 [==============================] - 4s - loss: 0.1451 - val_loss: 0.1437\n",
      "Epoch 18/100\n",
      "60000/60000 [==============================] - 4s - loss: 0.1431 - val_loss: 0.1402\n",
      "Epoch 19/100\n",
      "60000/60000 [==============================] - 4s - loss: 0.1414 - val_loss: 0.1394\n",
      "Epoch 20/100\n",
      "60000/60000 [==============================] - 4s - loss: 0.1397 - val_loss: 0.1370\n",
      "Epoch 21/100\n",
      "60000/60000 [==============================] - 4s - loss: 0.1380 - val_loss: 0.1368\n",
      "Epoch 22/100\n",
      "60000/60000 [==============================] - 4s - loss: 0.1366 - val_loss: 0.1354\n",
      "Epoch 23/100\n",
      "60000/60000 [==============================] - 4s - loss: 0.1352 - val_loss: 0.1334\n",
      "Epoch 24/100\n",
      "60000/60000 [==============================] - 5s - loss: 0.1339 - val_loss: 0.1313\n",
      "Epoch 25/100\n",
      "60000/60000 [==============================] - 5s - loss: 0.1326 - val_loss: 0.1309\n",
      "Epoch 26/100\n",
      "60000/60000 [==============================] - 5s - loss: 0.1313 - val_loss: 0.1287\n",
      "Epoch 27/100\n",
      "60000/60000 [==============================] - 5s - loss: 0.1302 - val_loss: 0.1279\n",
      "Epoch 28/100\n",
      "60000/60000 [==============================] - 5s - loss: 0.1291 - val_loss: 0.1271\n",
      "Epoch 29/100\n",
      "60000/60000 [==============================] - 5s - loss: 0.1280 - val_loss: 0.1255\n",
      "Epoch 30/100\n",
      "60000/60000 [==============================] - 4s - loss: 0.1269 - val_loss: 0.1244\n",
      "Epoch 31/100\n",
      "60000/60000 [==============================] - 4s - loss: 0.1258 - val_loss: 0.1241\n",
      "Epoch 32/100\n",
      "60000/60000 [==============================] - 4s - loss: 0.1249 - val_loss: 0.1233\n",
      "Epoch 33/100\n",
      "60000/60000 [==============================] - 4s - loss: 0.1238 - val_loss: 0.1228\n",
      "Epoch 34/100\n",
      "60000/60000 [==============================] - 5s - loss: 0.1229 - val_loss: 0.1210\n",
      "Epoch 35/100\n",
      "60000/60000 [==============================] - 5s - loss: 0.1219 - val_loss: 0.1204\n",
      "Epoch 36/100\n",
      "60000/60000 [==============================] - 5s - loss: 0.1213 - val_loss: 0.1201\n",
      "Epoch 37/100\n",
      "60000/60000 [==============================] - 5s - loss: 0.1204 - val_loss: 0.1200\n",
      "Epoch 38/100\n",
      "60000/60000 [==============================] - 4s - loss: 0.1198 - val_loss: 0.1175\n",
      "Epoch 39/100\n",
      "60000/60000 [==============================] - 5s - loss: 0.1191 - val_loss: 0.1170\n",
      "Epoch 40/100\n",
      "60000/60000 [==============================] - 4s - loss: 0.1185 - val_loss: 0.1184\n",
      "Epoch 41/100\n",
      "60000/60000 [==============================] - 5s - loss: 0.1179 - val_loss: 0.1168\n",
      "Epoch 42/100\n",
      "60000/60000 [==============================] - 4s - loss: 0.1173 - val_loss: 0.1159\n",
      "Epoch 43/100\n",
      "60000/60000 [==============================] - 4s - loss: 0.1168 - val_loss: 0.1163\n",
      "Epoch 44/100\n",
      "60000/60000 [==============================] - 4s - loss: 0.1164 - val_loss: 0.1150\n",
      "Epoch 45/100\n",
      "60000/60000 [==============================] - 4s - loss: 0.1159 - val_loss: 0.1149\n",
      "Epoch 46/100\n",
      "60000/60000 [==============================] - 4s - loss: 0.1154 - val_loss: 0.1149\n",
      "Epoch 47/100\n",
      "60000/60000 [==============================] - 4s - loss: 0.1151 - val_loss: 0.1139\n",
      "Epoch 48/100\n",
      "60000/60000 [==============================] - 4s - loss: 0.1145 - val_loss: 0.1141\n",
      "Epoch 49/100\n",
      "60000/60000 [==============================] - 4s - loss: 0.1144 - val_loss: 0.1129\n",
      "Epoch 50/100\n",
      "60000/60000 [==============================] - 4s - loss: 0.1138 - val_loss: 0.1131\n",
      "Epoch 51/100\n",
      "60000/60000 [==============================] - 4s - loss: 0.1135 - val_loss: 0.1115\n",
      "Epoch 52/100\n",
      "60000/60000 [==============================] - 4s - loss: 0.1132 - val_loss: 0.1112\n",
      "Epoch 53/100\n",
      "60000/60000 [==============================] - 4s - loss: 0.1127 - val_loss: 0.1107\n",
      "Epoch 54/100\n",
      "60000/60000 [==============================] - 4s - loss: 0.1123 - val_loss: 0.1102\n",
      "Epoch 55/100\n",
      "60000/60000 [==============================] - 4s - loss: 0.1119 - val_loss: 0.1106\n",
      "Epoch 56/100\n",
      "60000/60000 [==============================] - 4s - loss: 0.1116 - val_loss: 0.1111\n",
      "Epoch 57/100\n",
      "60000/60000 [==============================] - 4s - loss: 0.1111 - val_loss: 0.1100\n",
      "Epoch 58/100\n",
      "60000/60000 [==============================] - 4s - loss: 0.1108 - val_loss: 0.1093\n",
      "Epoch 59/100\n",
      "60000/60000 [==============================] - 5s - loss: 0.1104 - val_loss: 0.1093\n",
      "Epoch 60/100\n",
      "60000/60000 [==============================] - 4s - loss: 0.1100 - val_loss: 0.1095\n",
      "Epoch 61/100\n",
      "60000/60000 [==============================] - 4s - loss: 0.1097 - val_loss: 0.1094\n",
      "Epoch 62/100\n",
      "60000/60000 [==============================] - 4s - loss: 0.1093 - val_loss: 0.1086\n",
      "Epoch 63/100\n",
      "60000/60000 [==============================] - 4s - loss: 0.1089 - val_loss: 0.1075\n",
      "Epoch 64/100\n",
      "60000/60000 [==============================] - 4s - loss: 0.1086 - val_loss: 0.1070\n",
      "Epoch 65/100\n",
      "60000/60000 [==============================] - 4s - loss: 0.1083 - val_loss: 0.1070\n",
      "Epoch 66/100\n",
      "60000/60000 [==============================] - 4s - loss: 0.1078 - val_loss: 0.1060\n",
      "Epoch 67/100\n",
      "60000/60000 [==============================] - 4s - loss: 0.1076 - val_loss: 0.1052\n",
      "Epoch 68/100\n",
      "60000/60000 [==============================] - 4s - loss: 0.1071 - val_loss: 0.1064\n",
      "Epoch 69/100\n",
      "60000/60000 [==============================] - 4s - loss: 0.1070 - val_loss: 0.1057\n",
      "Epoch 70/100\n",
      "60000/60000 [==============================] - 4s - loss: 0.1066 - val_loss: 0.1070\n",
      "Epoch 71/100\n",
      "60000/60000 [==============================] - 4s - loss: 0.1063 - val_loss: 0.1052\n",
      "Epoch 72/100\n",
      "60000/60000 [==============================] - 4s - loss: 0.1059 - val_loss: 0.1058\n",
      "Epoch 73/100\n",
      "60000/60000 [==============================] - 4s - loss: 0.1056 - val_loss: 0.1043\n",
      "Epoch 74/100\n",
      "60000/60000 [==============================] - 4s - loss: 0.1054 - val_loss: 0.1037\n",
      "Epoch 75/100\n",
      "60000/60000 [==============================] - 4s - loss: 0.1051 - val_loss: 0.1048\n",
      "Epoch 76/100\n",
      "60000/60000 [==============================] - 4s - loss: 0.1048 - val_loss: 0.1036\n",
      "Epoch 77/100\n",
      "60000/60000 [==============================] - 4s - loss: 0.1046 - val_loss: 0.1031\n",
      "Epoch 78/100\n",
      "60000/60000 [==============================] - 4s - loss: 0.1043 - val_loss: 0.1031\n",
      "Epoch 79/100\n",
      "60000/60000 [==============================] - 4s - loss: 0.1042 - val_loss: 0.1026\n",
      "Epoch 80/100\n",
      "60000/60000 [==============================] - 4s - loss: 0.1038 - val_loss: 0.1033\n",
      "Epoch 81/100\n",
      "60000/60000 [==============================] - 4s - loss: 0.1038 - val_loss: 0.1031\n",
      "Epoch 82/100\n",
      "60000/60000 [==============================] - 4s - loss: 0.1034 - val_loss: 0.1028\n",
      "Epoch 83/100\n",
      "60000/60000 [==============================] - 4s - loss: 0.1034 - val_loss: 0.1023\n",
      "Epoch 84/100\n",
      "60000/60000 [==============================] - 4s - loss: 0.1031 - val_loss: 0.1017\n",
      "Epoch 85/100\n"
     ]
    },
    {
     "name": "stdout",
     "output_type": "stream",
     "text": [
      "60000/60000 [==============================] - 4s - loss: 0.1029 - val_loss: 0.1017\n",
      "Epoch 86/100\n",
      "60000/60000 [==============================] - 4s - loss: 0.1027 - val_loss: 0.1019\n",
      "Epoch 87/100\n",
      "60000/60000 [==============================] - 4s - loss: 0.1025 - val_loss: 0.1020\n",
      "Epoch 88/100\n",
      "60000/60000 [==============================] - 4s - loss: 0.1024 - val_loss: 0.1010\n",
      "Epoch 89/100\n",
      "60000/60000 [==============================] - 4s - loss: 0.1022 - val_loss: 0.1015\n",
      "Epoch 90/100\n",
      "60000/60000 [==============================] - 4s - loss: 0.1021 - val_loss: 0.1009\n",
      "Epoch 91/100\n",
      "60000/60000 [==============================] - 4s - loss: 0.1018 - val_loss: 0.1010\n",
      "Epoch 92/100\n",
      "60000/60000 [==============================] - 4s - loss: 0.1017 - val_loss: 0.1000\n",
      "Epoch 93/100\n",
      "60000/60000 [==============================] - 4s - loss: 0.1015 - val_loss: 0.1001\n",
      "Epoch 94/100\n",
      "60000/60000 [==============================] - 4s - loss: 0.1014 - val_loss: 0.1009\n",
      "Epoch 95/100\n",
      "60000/60000 [==============================] - 4s - loss: 0.1013 - val_loss: 0.1011\n",
      "Epoch 96/100\n",
      "60000/60000 [==============================] - 4s - loss: 0.1011 - val_loss: 0.1001\n",
      "Epoch 97/100\n",
      "60000/60000 [==============================] - 4s - loss: 0.1010 - val_loss: 0.1000\n",
      "Epoch 98/100\n",
      "60000/60000 [==============================] - 4s - loss: 0.1008 - val_loss: 0.1000\n",
      "Epoch 99/100\n",
      "60000/60000 [==============================] - 4s - loss: 0.1006 - val_loss: 0.0994\n",
      "Epoch 100/100\n",
      "60000/60000 [==============================] - 4s - loss: 0.1005 - val_loss: 0.0999\n"
     ]
    },
    {
     "data": {
      "text/plain": [
       "<keras.callbacks.History at 0x1f527f45668>"
      ]
     },
     "execution_count": 24,
     "metadata": {},
     "output_type": "execute_result"
    }
   ],
   "source": [
    "autoencoder = Model(input_img, decoded)\n",
    "autoencoder.compile(optimizer='adadelta', loss='binary_crossentropy')\n",
    "\n",
    "autoencoder.fit(x_train, x_train,\n",
    "                epochs=100,\n",
    "                batch_size=256,\n",
    "                shuffle=True,\n",
    "                validation_data=(x_test, x_test))"
   ]
  },
  {
   "cell_type": "code",
   "execution_count": null,
   "metadata": {},
   "outputs": [],
   "source": [
    "decoded_image = autoencoder.predict(x_test)\n",
    "plot_images(decoded_imgs, x_test)"
   ]
  },
  {
   "cell_type": "code",
   "execution_count": null,
   "metadata": {},
   "outputs": [],
   "source": []
  },
  {
   "cell_type": "code",
   "execution_count": null,
   "metadata": {
    "collapsed": true
   },
   "outputs": [],
   "source": []
  }
 ],
 "metadata": {
  "kernelspec": {
   "display_name": "Python 3",
   "language": "python",
   "name": "python3"
  },
  "language_info": {
   "codemirror_mode": {
    "name": "ipython",
    "version": 3
   },
   "file_extension": ".py",
   "mimetype": "text/x-python",
   "name": "python",
   "nbconvert_exporter": "python",
   "pygments_lexer": "ipython3",
   "version": "3.5.3"
  }
 },
 "nbformat": 4,
 "nbformat_minor": 2
}
