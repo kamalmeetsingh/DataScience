{
 "cells": [
  {
   "cell_type": "markdown",
   "metadata": {},
   "source": [
    "### Motivation for CNN  ---- Why CNN??\n",
    "\n",
    "1. Fully connected architecture brings in lot many parameters than actually required.. \n",
    "\n",
    "2. Loses spatial information from tensor data... \n",
    "\n",
    "3. Data is messy with element of white noice... \n",
    "\n",
    "<img src=\"images/fully-connected.png\" width=\"50%\">\n",
    "\n",
    "\n",
    "\n",
    "Consider a motivational example --- Human body is an amalgamation of different body parts but not all parts are connected... \n",
    "\n",
    "Eyes and Legs for example and hence while modelling a human body do we really want our eyes to be connected to feet ???\n",
    "\n",
    "A Fully Connected NN (MLP) would attempt to connect to two since both eyes and feet are part of the modelling space BUT we need to do better...  \n",
    "\n",
    "### A wish list would aspire for a locally connected architecture that \n",
    "\n",
    "1. Takes into account the spatial aspects of the tensor. \n",
    "2. Can deal with white noice.\n",
    "3. Preserves all the benifits of fully connected network...  \n",
    "\n",
    "### in short we need an architecute like this \n",
    "<img src=\"images/locally-connected.png\" width=\"50%\">"
   ]
  },
  {
   "cell_type": "code",
   "execution_count": 19,
   "metadata": {
    "collapsed": true
   },
   "outputs": [],
   "source": [
    "from sympy import *\n",
    "init_printing(use_unicode=True)"
   ]
  },
  {
   "cell_type": "code",
   "execution_count": 5,
   "metadata": {},
   "outputs": [
    {
     "data": {
      "text/latex": [
       "$$\\left[\\begin{matrix}1 & 1 & 1 & 0 & 0\\\\0 & 1 & 1 & 1 & 0\\\\0 & 0 & 1 & 1 & 1\\\\0 & 0 & 1 & 1 & 0\\\\0 & 1 & 1 & 0 & 0\\end{matrix}\\right]$$"
      ],
      "text/plain": [
       "⎡1  1  1  0  0⎤\n",
       "⎢             ⎥\n",
       "⎢0  1  1  1  0⎥\n",
       "⎢             ⎥\n",
       "⎢0  0  1  1  1⎥\n",
       "⎢             ⎥\n",
       "⎢0  0  1  1  0⎥\n",
       "⎢             ⎥\n",
       "⎣0  1  1  0  0⎦"
      ]
     },
     "execution_count": 5,
     "metadata": {},
     "output_type": "execute_result"
    }
   ],
   "source": [
    "tensor = Matrix([[1, 1, 1, 0, 0], [0, 1, 1, 1, 0], [0, 0, 1, 1, 1], [0, 0, 1, 1, 0], [0, 1, 1, 0, 0]])\n",
    "tensor"
   ]
  },
  {
   "cell_type": "code",
   "execution_count": 6,
   "metadata": {},
   "outputs": [
    {
     "data": {
      "text/latex": [
       "$$\\left[\\begin{matrix}1 & 0 & 1\\\\0 & 1 & 0\\\\1 & 0 & 1\\end{matrix}\\right]$$"
      ],
      "text/plain": [
       "⎡1  0  1⎤\n",
       "⎢       ⎥\n",
       "⎢0  1  0⎥\n",
       "⎢       ⎥\n",
       "⎣1  0  1⎦"
      ]
     },
     "execution_count": 6,
     "metadata": {},
     "output_type": "execute_result"
    }
   ],
   "source": [
    "kernel = Matrix([[1, 0, 1], [0, 1, 0], [1, 0, 1]])\n",
    "kernel"
   ]
  },
  {
   "cell_type": "markdown",
   "metadata": {},
   "source": [
    "### Lets cut a slice from the tensor and create a 3*3 matrix\n",
    "                                                                   (1 1 1\n",
    "                                                                     0 1 1\n",
    "                                                                     0 0 1\n",
    "                                                                    )\n",
    "                                                                     \n",
    "                                                                      \n",
    " and then check what happens when we the filter ** convolues over this region **                                                               "
   ]
  },
  {
   "cell_type": "code",
   "execution_count": 21,
   "metadata": {},
   "outputs": [
    {
     "data": {
      "image/png": "[encoded data removed]",
      "text/latex": [
       "$$4$$"
      ],
      "text/plain": [
       "4"
      ]
     },
     "execution_count": 21,
     "metadata": {},
     "output_type": "execute_result"
    }
   ],
   "source": [
    "t_sub = Matrix([[1,1,1],[0,1,1],[0,0,1]])\n",
    "sum([a*b for a,b in zip(t_sub,kernel)])"
   ]
  },
  {
   "cell_type": "code",
   "execution_count": 13,
   "metadata": {},
   "outputs": [],
   "source": [
    "t_00 = Matrix([[1,1,1],[0,1,1],[0,0,1]])\n",
    "t_01=  Matrix([[1,1,0],[1,1,1],[0,1,1]])\n",
    "t_02=  Matrix([[1,0,0],[1,1,0],[1,1,1]])\n",
    "\n",
    "t_10=  Matrix([[0,1,1],[0,0,1],[0,0,1]])\n",
    "t_11=  Matrix([[1,1,1],[0,1,1],[0,1,1]])\n",
    "t_12=  Matrix([[1,1,0],[1,1,1],[1,1,0]])\n",
    "\n",
    "t_20 = Matrix([[0,0,1],[0,0,1],[0,1,1]])\n",
    "t_21 = Matrix([[0,1,1],[0,1,1],[1,1,0]])\n",
    "t_22 = Matrix([[1,1,1],[1,1,0],[1,0,0]])"
   ]
  },
  {
   "cell_type": "code",
   "execution_count": 14,
   "metadata": {},
   "outputs": [],
   "source": [
    "n_00 = sum([a*b for a,b in zip(t_00,kernel)])\n",
    "n_01 = sum([a*b for a,b in zip(t_01,kernel)])\n",
    "n_02 = sum([a*b for a,b in zip(t_02,kernel)])\n",
    "\n",
    "n_10 = sum([a*b for a,b in zip(t_10,kernel)])\n",
    "n_11 = sum([a*b for a,b in zip(t_11,kernel)])\n",
    "n_12 = sum([a*b for a,b in zip(t_12,kernel)])\n",
    "\n",
    "n_20 = sum([a*b for a,b in zip(t_20,kernel)])\n",
    "n_21 = sum([a*b for a,b in zip(t_21,kernel)])\n",
    "n_22 = sum([a*b for a,b in zip(t_22,kernel)])"
   ]
  },
  {
   "cell_type": "code",
   "execution_count": 16,
   "metadata": {},
   "outputs": [
    {
     "data": {
      "text/latex": [
       "$$\\left[\\begin{matrix}4 & 3 & 4\\\\2 & 4 & 3\\\\2 & 3 & 4\\end{matrix}\\right]$$"
      ],
      "text/plain": [
       "⎡4  3  4⎤\n",
       "⎢       ⎥\n",
       "⎢2  4  3⎥\n",
       "⎢       ⎥\n",
       "⎣2  3  4⎦"
      ]
     },
     "execution_count": 16,
     "metadata": {},
     "output_type": "execute_result"
    }
   ],
   "source": [
    "h1 = Matrix([[n_00, n_01, n_02], [n_10, n_11, n_12], [n_20, n_21, n_22]])\n",
    "h1"
   ]
  },
  {
   "cell_type": "code",
   "execution_count": 13,
   "metadata": {},
   "outputs": [
    {
     "data": {
      "text/latex": [
       "$$\\left[\\begin{matrix}1 & 1 & 1\\\\0 & 1 & 1\\\\0 & 0 & 1\\end{matrix}\\right]$$"
      ],
      "text/plain": [
       "⎡1  1  1⎤\n",
       "⎢       ⎥\n",
       "⎢0  1  1⎥\n",
       "⎢       ⎥\n",
       "⎣0  0  1⎦"
      ]
     },
     "execution_count": 13,
     "metadata": {},
     "output_type": "execute_result"
    }
   ],
   "source": [
    "conv1 = Matrix([[1,1,1], [0,1,1], [0,0,1]])\n",
    "conv1"
   ]
  },
  {
   "cell_type": "markdown",
   "metadata": {},
   "source": [
    "## We can summarize this as \n",
    "\n",
    "<img src=\"images/convolution_viz.gif\" width=\"50%\">\n",
    "\n",
    "\n",
    "** Fre things to note**\n",
    "\n",
    "1. The size of the final convolution is same as the size of the filter/kernal.\n",
    "2. More then number of filters more the patterns will be detected. \n",
    "3. Size of filter ??? What should be the optimum size of the filters ??? \n",
    "\n",
    "Image source\n",
    "http://deeplearning.stanford.edu/wiki/index.php/Feature_extraction_using_convolution"
   ]
  },
  {
   "cell_type": "code",
   "execution_count": null,
   "metadata": {
    "collapsed": true
   },
   "outputs": [],
   "source": []
  },
  {
   "cell_type": "markdown",
   "metadata": {},
   "source": [
    "### consider the case where algebra leads to negative results\n",
    "\n",
    "<img src=\"images/mnist-cnn-1.png\" width=\"50%\">\n",
    "\n"
   ]
  },
  {
   "cell_type": "code",
   "execution_count": null,
   "metadata": {
    "collapsed": true
   },
   "outputs": [],
   "source": []
  },
  {
   "cell_type": "markdown",
   "metadata": {},
   "source": [
    "###  Multi faceted images\n",
    "\n",
    "Consider the image \n",
    "\n",
    "<img src=\"images/dog.png\" width=\"50%\">\n",
    "\n",
    "This image has a lot to offer.\n",
    "\n",
    "1. Tongue. \n",
    "2. Teeth\n",
    "3. Ears, etc etc. \n",
    "\n",
    "### but nothing to worry its an extension of the previous problem just add the filters... \n",
    "\n",
    "\n",
    "\n",
    " "
   ]
  },
  {
   "cell_type": "code",
   "execution_count": null,
   "metadata": {
    "collapsed": true
   },
   "outputs": [],
   "source": []
  },
  {
   "cell_type": "markdown",
   "metadata": {},
   "source": [
    "### Colored  images images are extension to gray images and have an additional depth parameter...\n",
    "\n",
    "We need to account for the additional dimension of depth as well for RGB images the depth is 3\n",
    "<img src=\"images/colored-image.png\" width=\"50%\">\n",
    "\n",
    "\n",
    "Best conceptulizse as a **stack of 3 2 dimensional arrays**\n",
    "\n",
    "To solve this we need a 3 dimensional filter instead of a single dimensional filter... \n",
    "\n",
    "<img src=\"images/3D-filter.png\" width=\"50%\">\n",
    "\n",
    "\n",
    "### and need to repeat the summation process 3 times\n",
    "\n",
    "<img src=\"images/3D-convolution.png\" width=\"50%\">\n"
   ]
  },
  {
   "cell_type": "code",
   "execution_count": null,
   "metadata": {
    "collapsed": true
   },
   "outputs": [],
   "source": []
  },
  {
   "cell_type": "markdown",
   "metadata": {},
   "source": [
    "### CNN Hyperparameters for convolutional layer\n",
    "\n",
    "1. Number of filters \n",
    "2. Size of the filters\n",
    "3. strides -- the amount by which the filters would move\n",
    "4. Padding -- Number of zero layers added to account for dimensionality... \n",
    "\n",
    "<img src=\"images/sliding-window-cnn.gif\" width=\"50%\">"
   ]
  },
  {
   "cell_type": "code",
   "execution_count": null,
   "metadata": {
    "collapsed": true
   },
   "outputs": [],
   "source": []
  },
  {
   "cell_type": "markdown",
   "metadata": {
    "collapsed": true
   },
   "source": [
    "## Max pooling\n",
    "\n",
    "Dimensional reduction of the layers.. \n",
    "\n",
    "<img src=\"images/max-pooling_1.png\" width=\"50%\">\n",
    "\n",
    "\n",
    "#### this leads to \n",
    "\n",
    "<img src=\"images/maxpooling_2.png\" width=\"50%\"> "
   ]
  },
  {
   "cell_type": "code",
   "execution_count": null,
   "metadata": {
    "collapsed": true
   },
   "outputs": [],
   "source": []
  }
 ],
 "metadata": {
  "kernelspec": {
   "display_name": "Python 3",
   "language": "python",
   "name": "python3"
  },
  "language_info": {
   "codemirror_mode": {
    "name": "ipython",
    "version": 3
   },
   "file_extension": ".py",
   "mimetype": "text/x-python",
   "name": "python",
   "nbconvert_exporter": "python",
   "pygments_lexer": "ipython3",
   "version": "3.5.3"
  }
 },
 "nbformat": 4,
 "nbformat_minor": 2
}
