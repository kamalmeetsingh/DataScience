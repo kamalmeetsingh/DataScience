{
 "cells": [
  {
   "cell_type": "code",
   "execution_count": 79,
   "metadata": {
    "collapsed": true
   },
   "outputs": [],
   "source": [
    "library(caTools)\n",
    "diabet<-read.csv('dataset/Diabetes.csv', header=TRUE)\n",
    "di<-sample.split(diabet,SplitRatio=0.7)\n",
    "trainset<-subset(diabet, di==\"TRUE\")\n",
    "testset<-subset(diabet, di==\"FALSE\")\n",
    "#testset\n"
   ]
  },
  {
   "cell_type": "code",
   "execution_count": 37,
   "metadata": {},
   "outputs": [
    {
     "name": "stderr",
     "output_type": "stream",
     "text": [
      "The following objects are masked from trainset (pos = 3):\n",
      "\n",
      "    Age, blood_pressure, BMI, Diabetes_pedigree_fn, glucose_conc,\n",
      "    Is_Diabetic, No.of_times_pregnant, skin_fold_thickness,\n",
      "    X2.Hour_serum_insulin\n",
      "\n",
      "The following objects are masked from trainset (pos = 4):\n",
      "\n",
      "    Age, blood_pressure, BMI, Diabetes_pedigree_fn, glucose_conc,\n",
      "    Is_Diabetic, No.of_times_pregnant, skin_fold_thickness,\n",
      "    X2.Hour_serum_insulin\n",
      "\n",
      "The following objects are masked from trainset (pos = 5):\n",
      "\n",
      "    Age, blood_pressure, BMI, Diabetes_pedigree_fn, glucose_conc,\n",
      "    Is_Diabetic, No.of_times_pregnant, skin_fold_thickness,\n",
      "    X2.Hour_serum_insulin\n",
      "\n",
      "The following objects are masked from trainset (pos = 6):\n",
      "\n",
      "    Age, blood_pressure, BMI, Diabetes_pedigree_fn, glucose_conc,\n",
      "    Is_Diabetic, No.of_times_pregnant, skin_fold_thickness,\n",
      "    X2.Hour_serum_insulin\n",
      "\n",
      "The following objects are masked from trainset (pos = 7):\n",
      "\n",
      "    Age, blood_pressure, BMI, Diabetes_pedigree_fn, glucose_conc,\n",
      "    Is_Diabetic, No.of_times_pregnant, skin_fold_thickness,\n",
      "    X2.Hour_serum_insulin\n",
      "\n",
      "The following objects are masked from trainset (pos = 8):\n",
      "\n",
      "    Age, blood_pressure, BMI, Diabetes_pedigree_fn, glucose_conc,\n",
      "    Is_Diabetic, No.of_times_pregnant, skin_fold_thickness,\n",
      "    X2.Hour_serum_insulin\n",
      "\n"
     ]
    }
   ],
   "source": [
    "attach(trainset)\n",
    "logistic_model<-glm(Is_Diabetic~No.of_times_pregnant+glucose_conc+blood_pressure+skin_fold_thickness+\n",
    "       X2.Hour_serum_insulin+BMI+Diabetes_pedigree_fn+Age\n",
    "       ,family=\"binomial\")"
   ]
  },
  {
   "cell_type": "code",
   "execution_count": 38,
   "metadata": {
    "collapsed": true
   },
   "outputs": [],
   "source": [
    "#summary(logistic_model)"
   ]
  },
  {
   "cell_type": "code",
   "execution_count": 52,
   "metadata": {
    "collapsed": true
   },
   "outputs": [],
   "source": [
    "p<-predict(logistic_model, newdata=testset,type=\"response\")"
   ]
  },
  {
   "cell_type": "code",
   "execution_count": 72,
   "metadata": {
    "collapsed": true
   },
   "outputs": [],
   "source": [
    "#p\n",
    "#trainset"
   ]
  },
  {
   "cell_type": "code",
   "execution_count": 83,
   "metadata": {},
   "outputs": [
    {
     "data": {
      "text/plain": [
       "            Predictedvalues\n",
       "Actualvalues FALSE TRUE\n",
       "         NO    140   39\n",
       "         YES    45   32"
      ]
     },
     "metadata": {},
     "output_type": "display_data"
    }
   ],
   "source": [
    "#t<-p>0.5\n",
    "#m<-trainset$Is_Diabetic\n",
    "table(Actualvalues=testset$Is_Diabetic , Predictedvalues=p>0.5)\n",
    "#table(Actualvalues=testset$Is_Diabetic)\n",
    "#table(Predictedvalues=p>0.3)\n",
    "#identical(levels(t),levels(m))\n",
    "\n",
    "#table(m, t)"
   ]
  },
  {
   "cell_type": "code",
   "execution_count": null,
   "metadata": {
    "collapsed": true
   },
   "outputs": [],
   "source": []
  },
  {
   "cell_type": "code",
   "execution_count": null,
   "metadata": {
    "collapsed": true
   },
   "outputs": [],
   "source": []
  }
 ],
 "metadata": {
  "kernelspec": {
   "display_name": "R",
   "language": "R",
   "name": "ir"
  },
  "language_info": {
   "codemirror_mode": "r",
   "file_extension": ".r",
   "mimetype": "text/x-r-source",
   "name": "R",
   "pygments_lexer": "r",
   "version": "3.4.2"
  }
 },
 "nbformat": 4,
 "nbformat_minor": 2
}
