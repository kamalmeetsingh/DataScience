{
 "cells": [
  {
   "cell_type": "markdown",
   "metadata": {},
   "source": [
    "#### References and  Cheet sheet.. \n",
    "\n",
    "What is dplyr --- its a library for Data manipulation and provide common functions like select, join, min, max, delete etc.. \n",
    "\n",
    "Handy reference on dplyr https://cran.r-project.org/web/packages/dplyr/README.html\n",
    "\n",
    "**_Data Wrangling_** cheet sheet -- https://www.rstudio.com/wp-content/uploads/2015/02/data-wrangling-cheatsheet.pdf\n",
    "\n",
    "**_dplyr_** cheet sheet --- http://stat545.com/bit001_dplyr-cheatsheet.html\n",
    "\n",
    "**_Map reduce paper => Sanjay Ghemawat/Jeff Dean_** https://static.googleusercontent.com/media/research.google.com/en//archive/mapreduce-osdi04.pdf"
   ]
  },
  {
   "cell_type": "code",
   "execution_count": 1,
   "metadata": {},
   "outputs": [
    {
     "name": "stderr",
     "output_type": "stream",
     "text": [
      "\n",
      "Attaching package: 'dplyr'\n",
      "\n",
      "The following objects are masked from 'package:stats':\n",
      "\n",
      "    filter, lag\n",
      "\n",
      "The following objects are masked from 'package:base':\n",
      "\n",
      "    intersect, setdiff, setequal, union\n",
      "\n"
     ]
    }
   ],
   "source": [
    "library(dplyr)"
   ]
  },
  {
   "cell_type": "code",
   "execution_count": 10,
   "metadata": {
    "collapsed": true
   },
   "outputs": [],
   "source": [
    "employee<-read.csv(\"dataset/Employee_Data.csv\", header=TRUE)"
   ]
  },
  {
   "cell_type": "code",
   "execution_count": 13,
   "metadata": {},
   "outputs": [
    {
     "data": {
      "text/html": [
       "12.3474286817318"
      ],
      "text/latex": [
       "12.3474286817318"
      ],
      "text/markdown": [
       "12.3474286817318"
      ],
      "text/plain": [
       "[1] 12.34743"
      ]
     },
     "metadata": {},
     "output_type": "display_data"
    }
   ],
   "source": [
    "duration = employee$Work_hour_in_week\n",
    "std_emp = sd(duration)\n",
    "\n",
    "std_emp"
   ]
  },
  {
   "cell_type": "code",
   "execution_count": 14,
   "metadata": {},
   "outputs": [
    {
     "data": {
      "text/html": [
       "40.437455852093"
      ],
      "text/latex": [
       "40.437455852093"
      ],
      "text/markdown": [
       "40.437455852093"
      ],
      "text/plain": [
       "[1] 40.43746"
      ]
     },
     "metadata": {},
     "output_type": "display_data"
    }
   ],
   "source": [
    "mean_emp = mean(duration)\n",
    "mean_emp"
   ]
  },
  {
   "cell_type": "markdown",
   "metadata": {},
   "source": [
    "#### % of employees that are worchoholic... i.e more than 80 hours are week"
   ]
  },
  {
   "cell_type": "code",
   "execution_count": 17,
   "metadata": {},
   "outputs": [
    {
     "data": {
      "text/html": [
       "0.000677398860569631"
      ],
      "text/latex": [
       "0.000677398860569631"
      ],
      "text/markdown": [
       "0.000677398860569631"
      ],
      "text/plain": [
       "[1] 0.0006773989"
      ]
     },
     "metadata": {},
     "output_type": "display_data"
    }
   ],
   "source": [
    "dist_80_hrs = pnorm(80, mean=mean_emp, sd=std_emp, lower.tail=FALSE) \n",
    "dist_80_hrs"
   ]
  },
  {
   "cell_type": "code",
   "execution_count": 20,
   "metadata": {},
   "outputs": [
    {
     "data": {
      "text/html": [
       "0.0677398860569631"
      ],
      "text/latex": [
       "0.0677398860569631"
      ],
      "text/markdown": [
       "0.0677398860569631"
      ],
      "text/plain": [
       "[1] 0.06773989"
      ]
     },
     "metadata": {},
     "output_type": "display_data"
    }
   ],
   "source": [
    "emp_80_or_more = 100 * dist_80_hrs\n",
    "emp_80_or_more"
   ]
  },
  {
   "cell_type": "code",
   "execution_count": 22,
   "metadata": {
    "collapsed": true
   },
   "outputs": [],
   "source": [
    "?mean"
   ]
  },
  {
   "cell_type": "code",
   "execution_count": 24,
   "metadata": {},
   "outputs": [
    {
     "data": {
      "text/html": [
       "'C:/dev/third-party/saurav/statistical-inferences'"
      ],
      "text/latex": [
       "'C:/dev/third-party/saurav/statistical-inferences'"
      ],
      "text/markdown": [
       "'C:/dev/third-party/saurav/statistical-inferences'"
      ],
      "text/plain": [
       "[1] \"C:/dev/third-party/saurav/statistical-inferences\""
      ]
     },
     "metadata": {},
     "output_type": "display_data"
    }
   ],
   "source": [
    "getwd()"
   ]
  },
  {
   "cell_type": "code",
   "execution_count": null,
   "metadata": {
    "collapsed": true
   },
   "outputs": [],
   "source": []
  }
 ],
 "metadata": {
  "kernelspec": {
   "display_name": "R",
   "language": "R",
   "name": "ir"
  },
  "language_info": {
   "codemirror_mode": "r",
   "file_extension": ".r",
   "mimetype": "text/x-r-source",
   "name": "R",
   "pygments_lexer": "r",
   "version": "3.4.2"
  }
 },
 "nbformat": 4,
 "nbformat_minor": 2
}
