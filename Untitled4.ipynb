{
 "cells": [
  {
   "cell_type": "code",
   "execution_count": 4,
   "metadata": {},
   "outputs": [
    {
     "data": {
      "text/html": [
       "'~/Library/R/3.4/library'"
      ],
      "text/latex": [
       "'\\textasciitilde{}/Library/R/3.4/library'"
      ],
      "text/markdown": [
       "'~/Library/R/3.4/library'"
      ],
      "text/plain": [
       "[1] \"~/Library/R/3.4/library\""
      ]
     },
     "metadata": {},
     "output_type": "display_data"
    }
   ],
   "source": [
    "Sys.getenv(\"R_LIBS_USER\")"
   ]
  },
  {
   "cell_type": "code",
   "execution_count": 19,
   "metadata": {},
   "outputs": [
    {
     "name": "stderr",
     "output_type": "stream",
     "text": [
      "also installing the dependencies ‘plot3Drgl’, ‘minqa’, ‘RcppEigen’, ‘gss’, ‘gtools’, ‘gdata’, ‘truncnorm’, ‘FNN’, ‘mclust’, ‘multicool’, ‘OceanView’, ‘DistributionUtils’, ‘GeneralizedHyperbolic’, ‘pbkrtest’, ‘lme4’, ‘fBasics’, ‘fastICA’, ‘fracdiff’, ‘RcppArmadillo’, ‘statmod’, ‘cubature’, ‘bdsmatrix’, ‘SparseM’, ‘gplots’, ‘Rsolnp’, ‘nloptr’, ‘ks’, ‘chron’, ‘SkewHyperbolic’, ‘expm’, ‘VGAM’, ‘mvtnorm’, ‘quadprog’, ‘car’, ‘lmtest’, ‘dynlm’, ‘effects’, ‘fGarch’, ‘forecast’, ‘mlogit’, ‘np’, ‘plm’, ‘pscl’, ‘quantreg’, ‘rgl’, ‘ROCR’, ‘rugarch’, ‘sampleSelection’, ‘systemfit’, ‘tseries’, ‘urca’, ‘vars’\n",
      "\n",
      "Warning message in install.packages(\"AER\", dependencies = TRUE):\n",
      "“installation of package ‘minqa’ had non-zero exit status”Warning message in install.packages(\"AER\", dependencies = TRUE):\n",
      "“installation of package ‘RcppEigen’ had non-zero exit status”Warning message in install.packages(\"AER\", dependencies = TRUE):\n",
      "“installation of package ‘gss’ had non-zero exit status”Warning message in install.packages(\"AER\", dependencies = TRUE):\n",
      "“installation of package ‘gtools’ had non-zero exit status”Warning message in install.packages(\"AER\", dependencies = TRUE):\n",
      "“installation of package ‘truncnorm’ had non-zero exit status”Warning message in install.packages(\"AER\", dependencies = TRUE):\n",
      "“installation of package ‘FNN’ had non-zero exit status”Warning message in install.packages(\"AER\", dependencies = TRUE):\n",
      "“installation of package ‘mclust’ had non-zero exit status”Warning message in install.packages(\"AER\", dependencies = TRUE):\n",
      "“installation of package ‘multicool’ had non-zero exit status”Warning message in install.packages(\"AER\", dependencies = TRUE):\n",
      "“installation of package ‘DistributionUtils’ had non-zero exit status”Warning message in install.packages(\"AER\", dependencies = TRUE):\n",
      "“installation of package ‘fastICA’ had non-zero exit status”Warning message in install.packages(\"AER\", dependencies = TRUE):\n",
      "“installation of package ‘fracdiff’ had non-zero exit status”Warning message in install.packages(\"AER\", dependencies = TRUE):\n",
      "“installation of package ‘RcppArmadillo’ had non-zero exit status”Warning message in install.packages(\"AER\", dependencies = TRUE):\n",
      "“installation of package ‘statmod’ had non-zero exit status”Warning message in install.packages(\"AER\", dependencies = TRUE):\n",
      "“installation of package ‘cubature’ had non-zero exit status”Warning message in install.packages(\"AER\", dependencies = TRUE):\n",
      "“installation of package ‘bdsmatrix’ had non-zero exit status”Warning message in install.packages(\"AER\", dependencies = TRUE):\n",
      "“installation of package ‘SparseM’ had non-zero exit status”Warning message in install.packages(\"AER\", dependencies = TRUE):\n",
      "“installation of package ‘nloptr’ had non-zero exit status”Warning message in install.packages(\"AER\", dependencies = TRUE):\n",
      "“installation of package ‘chron’ had non-zero exit status”Warning message in install.packages(\"AER\", dependencies = TRUE):\n",
      "“installation of package ‘expm’ had non-zero exit status”Warning message in install.packages(\"AER\", dependencies = TRUE):\n",
      "“installation of package ‘VGAM’ had non-zero exit status”Warning message in install.packages(\"AER\", dependencies = TRUE):\n",
      "“installation of package ‘mvtnorm’ had non-zero exit status”Warning message in install.packages(\"AER\", dependencies = TRUE):\n",
      "“installation of package ‘quadprog’ had non-zero exit status”Warning message in install.packages(\"AER\", dependencies = TRUE):\n",
      "“installation of package ‘lmtest’ had non-zero exit status”Warning message in install.packages(\"AER\", dependencies = TRUE):\n",
      "“installation of package ‘pscl’ had non-zero exit status”Warning message in install.packages(\"AER\", dependencies = TRUE):\n",
      "“installation of package ‘rgl’ had non-zero exit status”Warning message in install.packages(\"AER\", dependencies = TRUE):\n",
      "“installation of package ‘urca’ had non-zero exit status”Warning message in install.packages(\"AER\", dependencies = TRUE):\n",
      "“installation of package ‘plot3Drgl’ had non-zero exit status”Warning message in install.packages(\"AER\", dependencies = TRUE):\n",
      "“installation of package ‘gdata’ had non-zero exit status”Warning message in install.packages(\"AER\", dependencies = TRUE):\n",
      "“installation of package ‘GeneralizedHyperbolic’ had non-zero exit status”Warning message in install.packages(\"AER\", dependencies = TRUE):\n",
      "“installation of package ‘lme4’ had non-zero exit status”Warning message in install.packages(\"AER\", dependencies = TRUE):\n",
      "“installation of package ‘fBasics’ had non-zero exit status”Warning message in install.packages(\"AER\", dependencies = TRUE):\n",
      "“installation of package ‘Rsolnp’ had non-zero exit status”Warning message in install.packages(\"AER\", dependencies = TRUE):\n",
      "“installation of package ‘mlogit’ had non-zero exit status”Warning message in install.packages(\"AER\", dependencies = TRUE):\n",
      "“installation of package ‘plm’ had non-zero exit status”Warning message in install.packages(\"AER\", dependencies = TRUE):\n",
      "“installation of package ‘quantreg’ had non-zero exit status”Warning message in install.packages(\"AER\", dependencies = TRUE):\n",
      "“installation of package ‘tseries’ had non-zero exit status”Warning message in install.packages(\"AER\", dependencies = TRUE):\n",
      "“installation of package ‘vars’ had non-zero exit status”Warning message in install.packages(\"AER\", dependencies = TRUE):\n",
      "“installation of package ‘OceanView’ had non-zero exit status”Warning message in install.packages(\"AER\", dependencies = TRUE):\n",
      "“installation of package ‘pbkrtest’ had non-zero exit status”Warning message in install.packages(\"AER\", dependencies = TRUE):\n",
      "“installation of package ‘gplots’ had non-zero exit status”Warning message in install.packages(\"AER\", dependencies = TRUE):\n",
      "“installation of package ‘SkewHyperbolic’ had non-zero exit status”Warning message in install.packages(\"AER\", dependencies = TRUE):\n",
      "“installation of package ‘effects’ had non-zero exit status”Warning message in install.packages(\"AER\", dependencies = TRUE):\n",
      "“installation of package ‘fGarch’ had non-zero exit status”Warning message in install.packages(\"AER\", dependencies = TRUE):\n",
      "“installation of package ‘forecast’ had non-zero exit status”Warning message in install.packages(\"AER\", dependencies = TRUE):\n",
      "“installation of package ‘np’ had non-zero exit status”Warning message in install.packages(\"AER\", dependencies = TRUE):\n",
      "“installation of package ‘ks’ had non-zero exit status”Warning message in install.packages(\"AER\", dependencies = TRUE):\n",
      "“installation of package ‘car’ had non-zero exit status”Warning message in install.packages(\"AER\", dependencies = TRUE):\n",
      "“installation of package ‘ROCR’ had non-zero exit status”Warning message in install.packages(\"AER\", dependencies = TRUE):\n",
      "“installation of package ‘dynlm’ had non-zero exit status”Warning message in install.packages(\"AER\", dependencies = TRUE):\n",
      "“installation of package ‘rugarch’ had non-zero exit status”Warning message in install.packages(\"AER\", dependencies = TRUE):\n",
      "“installation of package ‘systemfit’ had non-zero exit status”Warning message in install.packages(\"AER\", dependencies = TRUE):\n",
      "“installation of package ‘AER’ had non-zero exit status”Warning message in install.packages(\"AER\", dependencies = TRUE):\n",
      "“installation of package ‘sampleSelection’ had non-zero exit status”Updating HTML index of packages in '.Library'\n",
      "Making 'packages.html' ... done\n"
     ]
    }
   ],
   "source": [
    "install.packages(\"AER\", dependencies=TRUE)"
   ]
  },
  {
   "cell_type": "code",
   "execution_count": 17,
   "metadata": {},
   "outputs": [
    {
     "ename": "ERROR",
     "evalue": "Error in library(AER): there is no package called ‘AER’\n",
     "output_type": "error",
     "traceback": [
      "Error in library(AER): there is no package called ‘AER’\nTraceback:\n",
      "1. library(AER)",
      "2. stop(txt, domain = NA)"
     ]
    }
   ],
   "source": [
    "library(AER)"
   ]
  },
  {
   "cell_type": "code",
   "execution_count": null,
   "metadata": {
    "collapsed": true
   },
   "outputs": [],
   "source": []
  },
  {
   "cell_type": "code",
   "execution_count": null,
   "metadata": {
    "collapsed": true
   },
   "outputs": [],
   "source": []
  }
 ],
 "metadata": {
  "kernelspec": {
   "display_name": "R",
   "language": "R",
   "name": "ir"
  },
  "language_info": {
   "codemirror_mode": "r",
   "file_extension": ".r",
   "mimetype": "text/x-r-source",
   "name": "R",
   "pygments_lexer": "r",
   "version": "3.4.2"
  }
 },
 "nbformat": 4,
 "nbformat_minor": 2
}
