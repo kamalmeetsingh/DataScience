{
 "cells": [
  {
   "cell_type": "code",
   "execution_count": 2,
   "metadata": {},
   "outputs": [
    {
     "name": "stderr",
     "output_type": "stream",
     "text": [
      "Using TensorFlow backend.\n"
     ]
    },
    {
     "name": "stdout",
     "output_type": "stream",
     "text": [
      "_________________________________________________________________\n",
      "Layer (type)                 Output Shape              Param #   \n",
      "=================================================================\n",
      "conv2d_1 (Conv2D)            (None, 50, 50, 16)        272       \n",
      "=================================================================\n",
      "Total params: 272\n",
      "Trainable params: 272\n",
      "Non-trainable params: 0\n",
      "_________________________________________________________________\n"
     ]
    }
   ],
   "source": [
    "from keras.models import Sequential\n",
    "from keras.layers import Conv2D\n",
    "\n",
    "model = Sequential()\n",
    "model.add(Conv2D(filters=16, kernel_size=4, strides=4, padding='valid', \n",
    "    activation='relu', input_shape=(200, 200, 1)))\n",
    "model.summary()"
   ]
  },
  {
   "cell_type": "code",
   "execution_count": null,
   "metadata": {
    "collapsed": true
   },
   "outputs": [],
   "source": []
  },
  {
   "cell_type": "markdown",
   "metadata": {},
   "source": [
    " ## Number of paramerters in Conv layers... \n",
    " \n",
    " K*F*F*D_in + K\n",
    "\n",
    " \n",
    "K - the number of filters in the convolutional layer\n",
    "\n",
    "F - the height and width of the convolutional filters\n",
    "\n",
    "D_in - the depth of the previous layer \n",
    "\n",
    "16 * 2 *2 *1 + 16"
   ]
  },
  {
   "cell_type": "markdown",
   "metadata": {},
   "source": [
    "## Shape of the layer\n",
    "\n",
    "K - the number of filters in the convolutional layer\n",
    "\n",
    "F - the height and width of the convolutional filters\n",
    "\n",
    "S - the stride of the convolution\n",
    "\n",
    "H_in - the height of the previous layer\n",
    "\n",
    "W_in - the width of the previous layer\n",
    "\n",
    "### When padding is same ...\n",
    "height = ceil(float(H_in) / float(S))\n",
    "width = ceil(float(W_in) / float(S))\n",
    "\n",
    "### When padding is valid\n",
    "\n",
    "height = ceil(float(H_in - F + 1) / float(S))\n",
    "width = ceil(float(W_in - F + 1) / float(S))"
   ]
  },
  {
   "cell_type": "code",
   "execution_count": 18,
   "metadata": {},
   "outputs": [
    {
     "name": "stdout",
     "output_type": "stream",
     "text": [
      "_________________________________________________________________\n",
      "Layer (type)                 Output Shape              Param #   \n",
      "=================================================================\n",
      "conv3d_7 (Conv3D)            (None, None, 6, 10, 10)   2260      \n",
      "=================================================================\n",
      "Total params: 2,260\n",
      "Trainable params: 2,260\n",
      "Non-trainable params: 0\n",
      "_________________________________________________________________\n"
     ]
    }
   ],
   "source": [
    "from keras.models import Sequential\n",
    "from keras.layers import Conv2D, Conv3D\n",
    "model = Sequential()\n",
    "model.add(Conv3D(filters=10, kernel_size=(5,5,3) ,strides=(5,5,3), padding='valid', \n",
    "    activation='relu', input_shape=(None,32, 32, 3)))\n",
    "model.summary()"
   ]
  },
  {
   "cell_type": "code",
   "execution_count": 16,
   "metadata": {},
   "outputs": [
    {
     "name": "stdout",
     "output_type": "stream",
     "text": [
      "_________________________________________________________________\n",
      "Layer (type)                 Output Shape              Param #   \n",
      "=================================================================\n",
      "conv2d_8 (Conv2D)            (None, 6, 10, 10)         460       \n",
      "=================================================================\n",
      "Total params: 460\n",
      "Trainable params: 460\n",
      "Non-trainable params: 0\n",
      "_________________________________________________________________\n"
     ]
    }
   ],
   "source": [
    "from keras.models import Sequential\n",
    "from keras.layers import Conv2D, Conv3D\n",
    "model = Sequential()\n",
    "model.add(Conv2D(filters=10, kernel_size=(5,3) ,strides=(5,3), padding='valid', \n",
    "    activation='relu', input_shape=(32, 32, 3)))\n",
    "model.summary()"
   ]
  },
  {
   "cell_type": "code",
   "execution_count": null,
   "metadata": {
    "collapsed": true
   },
   "outputs": [],
   "source": []
  }
 ],
 "metadata": {
  "kernelspec": {
   "display_name": "Python 3",
   "language": "python",
   "name": "python3"
  },
  "language_info": {
   "codemirror_mode": {
    "name": "ipython",
    "version": 3
   },
   "file_extension": ".py",
   "mimetype": "text/x-python",
   "name": "python",
   "nbconvert_exporter": "python",
   "pygments_lexer": "ipython3",
   "version": "3.5.3"
  }
 },
 "nbformat": 4,
 "nbformat_minor": 2
}
