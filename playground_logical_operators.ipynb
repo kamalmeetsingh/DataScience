{
 "cells": [
  {
   "cell_type": "markdown",
   "metadata": {},
   "source": [
    "### AND OR NOT AND XOR GATEs"
   ]
  },
  {
   "attachments": {},
   "cell_type": "markdown",
   "metadata": {},
   "source": [
    "## AND GATE \n",
    "\n",
    "**AND** gives Output as 1 only if both values are 1 else 0 \n",
    "<img src=\"images/and_gate_diag.png\" width=\"50%\">"
   ]
  },
  {
   "cell_type": "code",
   "execution_count": 17,
   "metadata": {},
   "outputs": [
    {
     "name": "stdout",
     "output_type": "stream",
     "text": [
      "You got 3 wrong.  Keep trying! \n",
      "\n",
      "Input 1    Input 2    Linear Combination    Activation Output   Is Correct\n",
      "      0          0                     1                    1           No\n",
      "      0          1                     5                    1           No\n",
      "      1          0                     4                    1           No\n",
      "      1          1                     8                    1          Yes\n"
     ]
    }
   ],
   "source": [
    "import pandas as pd\n",
    "import pprint\n",
    "from tabulate import tabulate\n",
    "\n",
    "# TODO: Set weight1, weight2, and bias : These are the wrong weights that I have put.. \n",
    "weight1 = 3\n",
    "weight2 = 4\n",
    "bias = 1\n",
    "\n",
    "def and_gate(weight1, weight2, bias):\n",
    "    # DON'T CHANGE ANYTHING BELOW\n",
    "    # Inputs and outputs\n",
    "    test_inputs = [(0, 0), (0, 1), (1, 0), (1, 1)]\n",
    "    correct_outputs = [False, False, False, True]\n",
    "    outputs = []\n",
    "    \n",
    "    # Generate and check output\n",
    "    for test_input, correct_output in zip(test_inputs, correct_outputs):                 #zip zip('ABCD', 'xy') --> Ax By\n",
    "        linear_combination = weight1 * test_input[0] + weight2 * test_input[1] + bias    # stops when smaller tuple finishes\n",
    "        output = int(linear_combination >= 0)\n",
    "        is_correct_string = 'Yes' if output == correct_output else 'No'\n",
    "        outputs.append([test_input[0], test_input[1], linear_combination, output, is_correct_string])\n",
    "    # Print output\n",
    "    num_wrong = len([output[4] for output in outputs if output[4] == 'No'])\n",
    "    output_frame = pd.DataFrame(outputs, columns=['Input 1', '  Input 2', '  Linear Combination', '  Activation Output', '  Is Correct'])\n",
    "       \n",
    "    if not num_wrong:\n",
    "        print('Nice!  You just learned the FORWARD PASS of the NN Algo... .\\n')\n",
    "        print(output_frame.to_string(index=False))\n",
    "    else:\n",
    "        print('You got {} wrong.  Keep trying! \\n'.format(num_wrong))\n",
    "        print(output_frame.to_string(index=False))\n",
    "\n",
    "and_gate(weight1, weight2, bias)"
   ]
  },
  {
   "cell_type": "code",
   "execution_count": null,
   "metadata": {
    "collapsed": true
   },
   "outputs": [],
   "source": []
  },
  {
   "cell_type": "code",
   "execution_count": null,
   "metadata": {
    "collapsed": true
   },
   "outputs": [],
   "source": []
  },
  {
   "cell_type": "markdown",
   "metadata": {
    "collapsed": true
   },
   "source": [
    "## OR Gate\n",
    "\n",
    "<img src=\"images/or_gate_diag.png\" width=\"50%\">\n"
   ]
  },
  {
   "cell_type": "code",
   "execution_count": null,
   "metadata": {
    "collapsed": true
   },
   "outputs": [],
   "source": []
  },
  {
   "cell_type": "markdown",
   "metadata": {},
   "source": [
    "### What can be done to make and AND GATE behave like a OR GATE ????\n",
    "\n",
    "### Think in terms of Weights and Bias\n",
    "\n",
    "<img src=\"images/and_to_or_diag.png\" width=\"50%\">"
   ]
  },
  {
   "cell_type": "code",
   "execution_count": 16,
   "metadata": {},
   "outputs": [
    {
     "name": "stdout",
     "output_type": "stream",
     "text": [
      "You got 3 wrong.  Keep trying! \n",
      "\n",
      "Input 1    Input 2    Linear Combination    Activation Output   Is Correct\n",
      "      0          0                    -1                    0          Yes\n",
      "      0          1                    -5                    0           No\n",
      "      1          0                    -4                    0           No\n",
      "      1          1                    -8                    0           No\n"
     ]
    }
   ],
   "source": [
    "\n",
    "import pprint\n",
    "from tabulate import tabulate\n",
    "\n",
    "# TODO: Set weight1, weight2, and bias : These are the wrong weights that I have put.. \n",
    "weight1 = -3\n",
    "weight2 = -4\n",
    "bias = -1\n",
    "\n",
    "def or_gate(weight1, weight2, bias):\n",
    "    # DON'T CHANGE ANYTHING BELOW\n",
    "    # Inputs and outputs\n",
    "    test_inputs = [(0, 0), (0, 1), (1, 0), (1, 1)]\n",
    "    correct_outputs = [False, True, True, True]\n",
    "    outputs = []\n",
    "    \n",
    "    # Generate and check output\n",
    "    for test_input, correct_output in zip(test_inputs, correct_outputs):                 #zip zip('ABCD', 'xy') --> Ax By\n",
    "        linear_combination = weight1 * test_input[0] + weight2 * test_input[1] + bias    # stops when smaller tuple finishes\n",
    "        output = int(linear_combination >= 0)\n",
    "        is_correct_string = 'Yes' if output == correct_output else 'No'\n",
    "        outputs.append([test_input[0], test_input[1], linear_combination, output, is_correct_string])\n",
    "    # Print output\n",
    "    num_wrong = len([output[4] for output in outputs if output[4] == 'No'])\n",
    "    output_frame = pd.DataFrame(outputs, columns=['Input 1', '  Input 2', '  Linear Combination', '  Activation Output', '  Is Correct'])\n",
    "       \n",
    "    if not num_wrong:\n",
    "        print('Nice!  You just learned the FORWARD PASS of the NN Algo... .\\n')\n",
    "        print(output_frame.to_string(index=False))\n",
    "    else:\n",
    "        print('You got {} wrong.  Keep trying! \\n'.format(num_wrong))\n",
    "        print(output_frame.to_string(index=False))\n",
    "\n",
    "or_gate(weight1, weight2, bias)"
   ]
  },
  {
   "cell_type": "code",
   "execution_count": null,
   "metadata": {
    "collapsed": true
   },
   "outputs": [],
   "source": []
  },
  {
   "cell_type": "code",
   "execution_count": null,
   "metadata": {
    "collapsed": true
   },
   "outputs": [],
   "source": []
  },
  {
   "cell_type": "markdown",
   "metadata": {},
   "source": [
    "### NOT Gate : \n",
    "\n",
    "NOT operation only cares about one input. The operation returns a 0 if the input is 1 and a 1 if it's a 0. The other inputs to the perceptron are ignored"
   ]
  },
  {
   "cell_type": "code",
   "execution_count": 15,
   "metadata": {},
   "outputs": [
    {
     "name": "stdout",
     "output_type": "stream",
     "text": [
      "You got 2 wrong.  Keep trying! \n",
      "\n",
      "Input 1    Input 2    Linear Combination    Activation Output   Is Correct\n",
      "      0          0                   5.0                    1          Yes\n",
      "      0          1                   9.0                    1           No\n",
      "      1          0                   8.0                    1          Yes\n",
      "      1          1                  12.0                    1           No\n"
     ]
    }
   ],
   "source": [
    "\n",
    "import pprint\n",
    "from tabulate import tabulate\n",
    "\n",
    "# TODO: Set weight1, weight2, and bias : These are the wrong weights that I have put.. \n",
    "weight1 = 3.0\n",
    "weight2 = 4.0\n",
    "bias = 5.0\n",
    "\n",
    "def not_gate(weight1, weight2, bias):\n",
    "    # DON'T CHANGE ANYTHING BELOW\n",
    "    # Inputs and outputs\n",
    "    test_inputs = [(0, 0), (0, 1), (1, 0), (1, 1)]\n",
    "    correct_outputs = [True, False, True, False]\n",
    "    outputs = []\n",
    "    \n",
    "    # Generate and check output\n",
    "    for test_input, correct_output in zip(test_inputs, correct_outputs):                 #zip zip('ABCD', 'xy') --> Ax By\n",
    "        linear_combination = weight1 * test_input[0] + weight2 * test_input[1] + bias    # stops when smaller tuple finishes\n",
    "        output = int(linear_combination >= 0)\n",
    "        is_correct_string = 'Yes' if output == correct_output else 'No'\n",
    "        outputs.append([test_input[0], test_input[1], linear_combination, output, is_correct_string])\n",
    "    # Print output\n",
    "    num_wrong = len([output[4] for output in outputs if output[4] == 'No'])\n",
    "    output_frame = pd.DataFrame(outputs, columns=['Input 1', '  Input 2', '  Linear Combination', '  Activation Output', '  Is Correct'])\n",
    "       \n",
    "    if not num_wrong:\n",
    "        print('Nice!  You just learned the FORWARD PASS of the NN Algo... .\\n')\n",
    "        print(output_frame.to_string(index=False))\n",
    "    else:\n",
    "        print('You got {} wrong.  Keep trying! \\n'.format(num_wrong))\n",
    "        print(output_frame.to_string(index=False))\n",
    "\n",
    "not_gate(weight1, weight2, bias)"
   ]
  },
  {
   "cell_type": "code",
   "execution_count": null,
   "metadata": {
    "collapsed": true
   },
   "outputs": [],
   "source": []
  },
  {
   "cell_type": "code",
   "execution_count": null,
   "metadata": {
    "collapsed": true
   },
   "outputs": [],
   "source": []
  },
  {
   "cell_type": "markdown",
   "metadata": {},
   "source": [
    "### Bonus Question --- can you implement XOR gate ... \n",
    "\n",
    "## Hint: look at the previous gate and mash results.. \n",
    "\n",
    "<img src=\"images/and_to_or_diag.png\" width=\"50%\">\n"
   ]
  },
  {
   "cell_type": "code",
   "execution_count": null,
   "metadata": {
    "collapsed": true
   },
   "outputs": [],
   "source": []
  }
 ],
 "metadata": {
  "kernelspec": {
   "display_name": "Python 3",
   "language": "python",
   "name": "python3"
  },
  "language_info": {
   "codemirror_mode": {
    "name": "ipython",
    "version": 3
   },
   "file_extension": ".py",
   "mimetype": "text/x-python",
   "name": "python",
   "nbconvert_exporter": "python",
   "pygments_lexer": "ipython3",
   "version": "3.5.3"
  }
 },
 "nbformat": 4,
 "nbformat_minor": 2
}
