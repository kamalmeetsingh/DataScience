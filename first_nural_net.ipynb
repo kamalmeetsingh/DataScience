{
 "cells": [
  {
   "cell_type": "code",
   "execution_count": 36,
   "metadata": {},
   "outputs": [],
   "source": [
    "import pandas as pd\n",
    "from keras.models import Sequential\n",
    "from keras.layers import Dense, Activation\n",
    "from keras.wrappers.scikit_learn import KerasRegressor\n",
    "from keras.callbacks import ModelCheckpoint, TensorBoard\n",
    "import numpy as np \n",
    "\n",
    "from keras.datasets import boston_housing\n",
    "from sklearn.preprocessing import StandardScaler"
   ]
  },
  {
   "cell_type": "code",
   "execution_count": null,
   "metadata": {
    "collapsed": true
   },
   "outputs": [],
   "source": []
  },
  {
   "cell_type": "code",
   "execution_count": 22,
   "metadata": {
    "collapsed": true
   },
   "outputs": [],
   "source": [
    "(x_train, y_train), (x_test, y_test) = boston_housing.load_data()"
   ]
  },
  {
   "cell_type": "code",
   "execution_count": null,
   "metadata": {
    "collapsed": true
   },
   "outputs": [],
   "source": []
  },
  {
   "cell_type": "code",
   "execution_count": null,
   "metadata": {
    "collapsed": true
   },
   "outputs": [],
   "source": []
  },
  {
   "cell_type": "markdown",
   "metadata": {},
   "source": [
    "## Neural network Architecture... \n",
    "\n",
    "--->Neural Network Architecture consists of stacking Neurons as a set of layers are capabale of taking some decision.. \n",
    "There are key actors in the Architecture\n",
    "\n",
    "## Model :\n",
    "   **Model** is the _computational graph_ that embeds the nitty gritty of the Architecutre... \n",
    "\n",
    "## Layers\n",
    "\n",
    " **LAYER** can be stacked in multiple ways\n",
    "     a. **Dense** When all the Neurons are conntected together -- Dense layers... This is a simplest but a bulky architecture\n",
    "     \n",
    "     b. **Convolutional** When a layer attempts to emulates the response of an individual neuron and passes the results directly to the controller-- CNN. Think of eye and brain...  \n",
    "     c. **Pooling** combine the outputs of neuron clusters at one layer into a single neuron in the next layer.\n",
    "     d. **LSTM** allows data to flow both forwards and backwards within the network\n",
    "     e. **GRU**  similar to _LSTM_ but has two gates as against to 3 in LSTM\n",
    "     f. and the goes on... .... \n",
    "     \n",
    "**tuning parameters** Layers can have sets of tuning parameters that can fine tune the behaviour of the layer.. \n",
    "**Activation Function**\n",
    "\n",
    "## Hyper parameters\n",
    "Parameters that affect the over all working of the Network -- batch size, epochs, etc. etc..\n",
    "\n",
    "## Optmizer \n",
    "\n",
    "The secret sauce that **_Deep learning** has and missing from Baysea or other learnings.\n",
    "\n",
    "\n"
   ]
  },
  {
   "cell_type": "code",
   "execution_count": 30,
   "metadata": {},
   "outputs": [
    {
     "name": "stdout",
     "output_type": "stream",
     "text": [
      "(404, 13) train samples\n",
      "(102, 13) test samples\n"
     ]
    }
   ],
   "source": [
    "(x_train, y_train), (x_test, y_test) = boston_housing.load_data()\n",
    "print(x_train.shape, 'train samples')\n",
    "print(x_test.shape, 'test samples')"
   ]
  },
  {
   "cell_type": "markdown",
   "metadata": {},
   "source": [
    "### Setting up our Network Hyper Parameters"
   ]
  },
  {
   "cell_type": "code",
   "execution_count": 31,
   "metadata": {
    "collapsed": true
   },
   "outputs": [],
   "source": [
    "# Training Parameters\n",
    "learning_rate = 0.1 \n",
    "training_epochs = 200\n",
    "batch_size = 100\n",
    "\n",
    "# Network Parameters  ---> Layer params\n",
    "n_hidden_1 = 3840 # 1st layer number of neurons\n",
    "n_hidden_2 = 100 # 2nd layer number of neurons"
   ]
  },
  {
   "cell_type": "markdown",
   "metadata": {},
   "source": [
    "### Lets build our first sequential network\n",
    "\n",
    "We start out by defining our model as a sequential one  \n",
    "\n",
    "Then we add 3 Dense layers  \n",
    "In each Dense layer we have to define the number of hidden units/neurons for that layer  \n",
    "We can also add a name to each layer so that we can see it easily in our summary and later in Tensorboard"
   ]
  },
  {
   "cell_type": "code",
   "execution_count": null,
   "metadata": {},
   "outputs": [],
   "source": [
    "    "
   ]
  },
  {
   "cell_type": "code",
   "execution_count": 49,
   "metadata": {
    "collapsed": true
   },
   "outputs": [],
   "source": [
    "# define base model\n",
    "def first_deep_model():\n",
    "# create model\n",
    "    model = Sequential()\n",
    "    model.add(Dense(n_hidden_1, input_dim=13, kernel_initializer='normal', activation='relu'))\n",
    "    model.add(Dense(n_hidden_2,  input_dim=13, name = \"Dense_2\"))\n",
    "    model.add(Activation('relu', name = \"Relu2\"))\n",
    "    model.add(Dense(1, kernel_initializer='normal'))\n",
    "# Compile model\n",
    "    model.compile(loss='mean_squared_error', optimizer='adam')\n",
    "    print(model.summary())\n",
    "    return model\n",
    "\n",
    "#model.add(Dense(n_hidden_2, input_dim=13, kernel_initializer='normal', activation='relu'))\n",
    "\n"
   ]
  },
  {
   "cell_type": "code",
   "execution_count": null,
   "metadata": {
    "collapsed": true
   },
   "outputs": [],
   "source": []
  },
  {
   "cell_type": "code",
   "execution_count": 34,
   "metadata": {
    "collapsed": true
   },
   "outputs": [],
   "source": [
    "# fix random seed for reproducibility\n",
    "seed = 7\n",
    "np.random.seed(seed)\n",
    "# evaluate model with standardized dataset\n",
    "estimator = KerasRegressor(build_fn=first_deep_model, nb_epoch=100, batch_size=batch_size, verbose=0)"
   ]
  },
  {
   "cell_type": "code",
   "execution_count": 51,
   "metadata": {},
   "outputs": [
    {
     "name": "stdout",
     "output_type": "stream",
     "text": [
      "_________________________________________________________________\n",
      "Layer (type)                 Output Shape              Param #   \n",
      "=================================================================\n",
      "dense_35 (Dense)             (None, 3840)              53760     \n",
      "_________________________________________________________________\n",
      "Dense_2 (Dense)              (None, 100)               384100    \n",
      "_________________________________________________________________\n",
      "Relu2 (Activation)           (None, 100)               0         \n",
      "_________________________________________________________________\n",
      "dense_36 (Dense)             (None, 1)                 101       \n",
      "=================================================================\n",
      "Total params: 437,961\n",
      "Trainable params: 437,961\n",
      "Non-trainable params: 0\n",
      "_________________________________________________________________\n",
      "None\n"
     ]
    }
   ],
   "source": [
    "seed = 7\n",
    "np.random.seed(seed)\n",
    "(X_train, Y_train), (X_test, Y_test) = boston_housing.load_data()\n",
    "scale = StandardScaler()\n",
    "X_train = scale.fit_transform(X_train)\n",
    "X_test = scale.fit_transform(X_test)\n",
    "model = KerasRegressor(build_fn=first_deep_model, nb_epoch=training_epochs, batch_size=5,verbose=0)\n",
    "tensorboard = TensorBoard(log_dir='./logs')\n",
    "\n",
    "model.fit(X_train,Y_train, callbacks=[tensorboard])\n",
    "res = model.predict(X_test)"
   ]
  },
  {
   "cell_type": "code",
   "execution_count": 10,
   "metadata": {},
   "outputs": [
    {
     "data": {
      "text/plain": [
       "20.449520279379453"
      ]
     },
     "execution_count": 10,
     "metadata": {},
     "output_type": "execute_result"
    }
   ],
   "source": [
    "score = model.score(X_test, Y_test)\n",
    "score"
   ]
  },
  {
   "cell_type": "code",
   "execution_count": 11,
   "metadata": {},
   "outputs": [
    {
     "name": "stdout",
     "output_type": "stream",
     "text": [
      "20.4495211746\n",
      "3.27952421787\n"
     ]
    }
   ],
   "source": [
    "from sklearn.metrics import mean_squared_error\n",
    "score = mean_squared_error(Y_test, model.predict(X_test))\n",
    "print(score)\n",
    "from sklearn.metrics import mean_absolute_error\n",
    "score = mean_absolute_error(Y_test, model.predict(X_test))\n",
    "print(score)"
   ]
  },
  {
   "cell_type": "code",
   "execution_count": 12,
   "metadata": {
    "collapsed": true
   },
   "outputs": [],
   "source": [
    "#from keras.utils import plot_model\n",
    "#plot_model(model, to_file='model.png')"
   ]
  },
  {
   "cell_type": "code",
   "execution_count": null,
   "metadata": {
    "collapsed": true
   },
   "outputs": [],
   "source": []
  }
 ],
 "metadata": {
  "kernelspec": {
   "display_name": "Python 3",
   "language": "python",
   "name": "python3"
  },
  "language_info": {
   "codemirror_mode": {
    "name": "ipython",
    "version": 3
   },
   "file_extension": ".py",
   "mimetype": "text/x-python",
   "name": "python",
   "nbconvert_exporter": "python",
   "pygments_lexer": "ipython3",
   "version": "3.5.3"
  }
 },
 "nbformat": 4,
 "nbformat_minor": 2
}
